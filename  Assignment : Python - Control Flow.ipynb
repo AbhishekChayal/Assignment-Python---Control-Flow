{
 "cells": [
  {
   "cell_type": "markdown",
   "metadata": {},
   "source": [
    "Basic If-Else Statements:"
   ]
  },
  {
   "cell_type": "markdown",
   "metadata": {},
   "source": [
    "1. Write a Python program to check if a given number is positive or negative."
   ]
  },
  {
   "cell_type": "code",
   "execution_count": 1,
   "metadata": {},
   "outputs": [
    {
     "name": "stdout",
     "output_type": "stream",
     "text": [
      "The number is positive.\n"
     ]
    }
   ],
   "source": [
    "def check_positive_negative(number):\n",
    "    if number > 0:\n",
    "        print(\"The number is positive.\")\n",
    "    elif number < 0:\n",
    "        print(\"The number is negative.\")\n",
    "    else:\n",
    "        print(\"The number is zero.\")\n",
    "number = float(input(\"Enter a number: \"))\n",
    "check_positive_negative(number)"
   ]
  },
  {
   "cell_type": "markdown",
   "metadata": {},
   "source": [
    "2. Create a program that determines if a person is eligible to vote based on their age."
   ]
  },
  {
   "cell_type": "code",
   "execution_count": 2,
   "metadata": {},
   "outputs": [
    {
     "name": "stdout",
     "output_type": "stream",
     "text": [
      "You are eligible to vote.\n"
     ]
    }
   ],
   "source": [
    "def check_voting_eligibility(age):\n",
    "    if age >= 18:\n",
    "        print(\"You are eligible to vote.\")\n",
    "    else:\n",
    "        print(\"You are not eligible to vote yet.\")\n",
    "age = int(input(\"Enter your age: \"))\n",
    "check_voting_eligibility(age)\n"
   ]
  },
  {
   "cell_type": "markdown",
   "metadata": {},
   "source": [
    "3. Develop a program to find the maximum of two numbers using if-else statements."
   ]
  },
  {
   "cell_type": "code",
   "execution_count": 3,
   "metadata": {},
   "outputs": [
    {
     "name": "stdout",
     "output_type": "stream",
     "text": [
      "The maximum of the two numbers is: 8.23\n"
     ]
    }
   ],
   "source": [
    "def find_maximum(num1, num2):\n",
    "    if num1 > num2:\n",
    "        maximum = num1\n",
    "    else:\n",
    "        maximum = num2\n",
    "    return maximum\n",
    "number1 = float(input(\"Enter the first number: \"))\n",
    "number2 = float(input(\"Enter the second number: \"))\n",
    "maximum = find_maximum(number1, number2)\n",
    "print(\"The maximum of the two numbers is:\", maximum)\n"
   ]
  },
  {
   "cell_type": "markdown",
   "metadata": {},
   "source": [
    "4. Write a Python script to classify a given year as a leap year or not."
   ]
  },
  {
   "cell_type": "code",
   "execution_count": 4,
   "metadata": {},
   "outputs": [
    {
     "name": "stdout",
     "output_type": "stream",
     "text": [
      "2024 is a leap year.\n"
     ]
    }
   ],
   "source": [
    "def is_leap_year(year):\n",
    "    if (year % 4 == 0 and year % 100 != 0) or (year % 400 == 0):\n",
    "        return True\n",
    "    else:\n",
    "        return False\n",
    "year = int(input(\"Enter a year: \"))\n",
    "if is_leap_year(year):\n",
    "    print(year, \"is a leap year.\")\n",
    "else:\n",
    "    print(year, \"is not a leap year.\")\n"
   ]
  },
  {
   "cell_type": "markdown",
   "metadata": {},
   "source": [
    "5. Create a program that checks whether a character is a vowel or a consonant."
   ]
  },
  {
   "cell_type": "code",
   "execution_count": 6,
   "metadata": {},
   "outputs": [
    {
     "name": "stdout",
     "output_type": "stream",
     "text": [
      "aeiou is a vowel.\n"
     ]
    }
   ],
   "source": [
    "def check_vowel_consonant(character):\n",
    "    vowels = \"aeiouAEIOU\"\n",
    "    if character.isalpha():\n",
    "        if character in vowels:\n",
    "            print(character, \"is a vowel.\")\n",
    "        else:\n",
    "            print(character, \"is a consonant.\")\n",
    "    else:\n",
    "        print(\"Invalid input. Please enter a valid alphabetic character.\")\n",
    "char = input(\"Enter a character: \")\n",
    "check_vowel_consonant(char)\n"
   ]
  },
  {
   "cell_type": "markdown",
   "metadata": {},
   "source": [
    "6. Implement a program to determine whether a given number is even or odd."
   ]
  },
  {
   "cell_type": "code",
   "execution_count": 7,
   "metadata": {},
   "outputs": [
    {
     "name": "stdout",
     "output_type": "stream",
     "text": [
      "69 is an odd number.\n"
     ]
    }
   ],
   "source": [
    "def check_even_odd(number):\n",
    "    if number % 2 == 0:\n",
    "        print(number, \"is an even number.\")\n",
    "    else:\n",
    "        print(number, \"is an odd number.\")\n",
    "num = int(input(\"Enter a number: \"))\n",
    "check_even_odd(num)\n"
   ]
  },
  {
   "cell_type": "markdown",
   "metadata": {},
   "source": [
    "7. Write a Python function to calculate the absolute value of a number without using the `abs()` function."
   ]
  },
  {
   "cell_type": "code",
   "execution_count": 11,
   "metadata": {},
   "outputs": [
    {
     "name": "stdout",
     "output_type": "stream",
     "text": [
      "Absolute value of -5.0 is: 5.0\n"
     ]
    }
   ],
   "source": [
    "def absolute_value(number):\n",
    "    if number < 0:\n",
    "        return -number\n",
    "    else:\n",
    "        return number\n",
    "num = float(input(\"Enter a number: \"))\n",
    "print(\"Absolute value of\", num, \"is:\", absolute_value(num))\n"
   ]
  },
  {
   "cell_type": "markdown",
   "metadata": {},
   "source": [
    "8. Develop a program that determines the largest of three given numbers using if-else statements."
   ]
  },
  {
   "cell_type": "code",
   "execution_count": 12,
   "metadata": {},
   "outputs": [
    {
     "name": "stdout",
     "output_type": "stream",
     "text": [
      "The largest of the three numbers is: 9.0\n"
     ]
    }
   ],
   "source": [
    "def find_largest(num1, num2, num3):\n",
    "    if num1 >= num2 and num1 >= num3:\n",
    "        largest = num1\n",
    "    elif num2 >= num1 and num2 >= num3:\n",
    "        largest = num2\n",
    "    else:\n",
    "        largest = num3\n",
    "    return largest\n",
    "number1 = float(input(\"Enter the first number: \"))\n",
    "number2 = float(input(\"Enter the second number: \"))\n",
    "number3 = float(input(\"Enter the third number: \"))\n",
    "largest = find_largest(number1, number2, number3)\n",
    "print(\"The largest of the three numbers is:\", largest)\n"
   ]
  },
  {
   "cell_type": "markdown",
   "metadata": {},
   "source": [
    "9. Create a program that checks if a given string is a palindrome."
   ]
  },
  {
   "cell_type": "code",
   "execution_count": 13,
   "metadata": {},
   "outputs": [
    {
     "name": "stdout",
     "output_type": "stream",
     "text": [
      "The string is a palindrome.\n"
     ]
    }
   ],
   "source": [
    "def is_palindrome(string):\n",
    "    cleaned_string = ''.join(char.lower() for char in string if char.isalnum())\n",
    "    return cleaned_string == cleaned_string[::-1]\n",
    "\n",
    "input_string = input(\"Enter a string: \")\n",
    "if is_palindrome(input_string):\n",
    "    print(\"The string is a palindrome.\")\n",
    "else:\n",
    "    print(\"The string is not a palindrome.\")\n"
   ]
  },
  {
   "cell_type": "markdown",
   "metadata": {},
   "source": [
    "10. Write a Python program to calculate the grade based on a student's score."
   ]
  },
  {
   "cell_type": "code",
   "execution_count": 14,
   "metadata": {},
   "outputs": [
    {
     "name": "stdout",
     "output_type": "stream",
     "text": [
      "The student's grade is: C\n"
     ]
    }
   ],
   "source": [
    "def calculate_grade(score):\n",
    "    if score >= 90:\n",
    "        return 'A'\n",
    "    elif score >= 80:\n",
    "        return 'B'\n",
    "    elif score >= 70:\n",
    "        return 'C'\n",
    "    elif score >= 60:\n",
    "        return 'D'\n",
    "    else:\n",
    "        return 'F'\n",
    "score = float(input(\"Enter the student's score: \"))\n",
    "grade = calculate_grade(score)\n",
    "print(\"The student's grade is:\", grade)\n"
   ]
  },
  {
   "cell_type": "markdown",
   "metadata": {},
   "source": [
    "Nested If-Else Statements:"
   ]
  },
  {
   "cell_type": "markdown",
   "metadata": {},
   "source": [
    "11. Write a program to find the largest among three numbers using nested if-else statements."
   ]
  },
  {
   "cell_type": "code",
   "execution_count": 15,
   "metadata": {},
   "outputs": [
    {
     "name": "stdout",
     "output_type": "stream",
     "text": [
      "The largest of the three numbers is: 9.0\n"
     ]
    }
   ],
   "source": [
    "def find_largest(num1, num2, num3):\n",
    "    if num1 >= num2:\n",
    "        if num1 >= num3:\n",
    "            largest = num1\n",
    "        else:\n",
    "            largest = num3\n",
    "    else:\n",
    "        if num2 >= num3:\n",
    "            largest = num2\n",
    "        else:\n",
    "            largest = num3\n",
    "    return largest\n",
    "number1 = float(input(\"Enter the first number: \"))\n",
    "number2 = float(input(\"Enter the second number: \"))\n",
    "number3 = float(input(\"Enter the third number: \"))\n",
    "largest = find_largest(number1, number2, number3)\n",
    "print(\"The largest of the three numbers is:\", largest)\n"
   ]
  },
  {
   "cell_type": "markdown",
   "metadata": {},
   "source": [
    "12. Implement a program to determine if a triangle is equilateral, isosceles, or scalene."
   ]
  },
  {
   "cell_type": "code",
   "execution_count": 16,
   "metadata": {},
   "outputs": [
    {
     "name": "stdout",
     "output_type": "stream",
     "text": [
      "The triangle is Scalene\n"
     ]
    }
   ],
   "source": [
    "def triangle_type(side1, side2, side3):\n",
    "    if side1 == side2 == side3:\n",
    "        return \"Equilaterat\"\n",
    "    elif side1 == side2 or side1 == side3 or side2 == side3:\n",
    "        return \"Isosceles\"\n",
    "    else:\n",
    "        return \"Scalene\"\n",
    "side1 = float(input(\"Enter the length of the first side: \"))\n",
    "side2 = float(input(\"Enter the length of the second side: \"))\n",
    "side3 = float(input(\"Enter the length of the third side: \"))\n",
    "if side1 + side2 > side3 and side1 + side3 > side2 and side2 + side3 > side1 :\n",
    "    triangle = triangle_type(side1, side2,side3)\n",
    "    print(\"The triangle is\", triangle)\n",
    "else:\n",
    "    print(\"The given side cannot form a triangle.\")"
   ]
  },
  {
   "cell_type": "markdown",
   "metadata": {},
   "source": [
    "13. Develop a program that checks if a year is a leap year and also if it is a century year."
   ]
  },
  {
   "cell_type": "code",
   "execution_count": 17,
   "metadata": {},
   "outputs": [
    {
     "name": "stdout",
     "output_type": "stream",
     "text": [
      "2024 is a leap year.\n",
      "2024 is not a century year.\n"
     ]
    }
   ],
   "source": [
    "def is_leap_year(year):\n",
    "    if (year % 4 == 0 and year % 100 != 0) or (year % 400 == 0):\n",
    "        return True\n",
    "    else:\n",
    "        return False\n",
    "    \n",
    "def is_century_year(year):\n",
    "    if year % 100 == 0:\n",
    "        return True\n",
    "    else:\n",
    "        return False\n",
    "    \n",
    "year = int(input(\"Enter a year: \"))\n",
    "\n",
    "if is_leap_year(year):\n",
    "    print(year, \"is a leap year.\")\n",
    "else:\n",
    "    print(year, \"is not a leap year.\")\n",
    "\n",
    "if is_century_year(year):\n",
    "    print(year, \"is a century year.\")\n",
    "else:\n",
    "    print(year, \"is not a century year.\")\n"
   ]
  },
  {
   "cell_type": "markdown",
   "metadata": {},
   "source": [
    "14. Write a Python script to determine if a number is positive, negative, or zero."
   ]
  },
  {
   "cell_type": "code",
   "execution_count": 21,
   "metadata": {},
   "outputs": [
    {
     "name": "stdout",
     "output_type": "stream",
     "text": [
      "The number is negative.\n"
     ]
    }
   ],
   "source": [
    "def check_positive_negative_zero(number):\n",
    "    if number > 0:\n",
    "        print(\"The number is positive.\")\n",
    "    else:\n",
    "        if number < 0:\n",
    "            print(\"The number is negative.\")\n",
    "        else:\n",
    "            print(\"The number is zero.\")\n",
    "number = float(input(\"Enter a number: \"))\n",
    "check_positive_negative_zero(number)\n"
   ]
  },
  {
   "cell_type": "markdown",
   "metadata": {},
   "source": [
    "15. Create a program to check if a person is a teenager (between 13 and 19 years old)."
   ]
  },
  {
   "cell_type": "code",
   "execution_count": 19,
   "metadata": {},
   "outputs": [
    {
     "name": "stdout",
     "output_type": "stream",
     "text": [
      "You are a teenager.\n"
     ]
    }
   ],
   "source": [
    "def is_teenager(age):\n",
    "    if age >= 13 and age <= 19:\n",
    "        return True\n",
    "    else:\n",
    "        return False\n",
    "age = int(input(\"Enter your age: \"))\n",
    "if is_teenager(age):\n",
    "    print(\"You are a teenager.\")\n",
    "else:\n",
    "    print(\"You are not a teenager.\")\n"
   ]
  },
  {
   "cell_type": "markdown",
   "metadata": {},
   "source": [
    "16. Develop a program that determines the type of angle based on its measure (acute, obtuse, or right)."
   ]
  },
  {
   "cell_type": "code",
   "execution_count": 20,
   "metadata": {},
   "outputs": [
    {
     "name": "stdout",
     "output_type": "stream",
     "text": [
      "The angle is Acute\n"
     ]
    }
   ],
   "source": [
    "def angle_type(angle):\n",
    "    if angle > 0:\n",
    "        if angle < 90:\n",
    "            return \"Acute\"\n",
    "        elif angle == 90:\n",
    "            return \"Right\"\n",
    "        elif angle < 180:\n",
    "            return \"Obtuse\"\n",
    "        else:\n",
    "            return \"Invalid angle\"\n",
    "    else:\n",
    "        return \"Invalid angle\"\n",
    "\n",
    "angle_measure = float(input(\"Enter the measure of the angle in degrees: \"))\n",
    "angle_category = angle_type(angle_measure)\n",
    "print(\"The angle is\", angle_category)\n"
   ]
  },
  {
   "cell_type": "markdown",
   "metadata": {},
   "source": [
    "17. Write a Python program to calculate the roots of a quadratic equation."
   ]
  },
  {
   "cell_type": "code",
   "execution_count": 22,
   "metadata": {},
   "outputs": [
    {
     "name": "stdout",
     "output_type": "stream",
     "text": [
      "Roots are complex: -1.00 + 1.41i and -1.00 - 1.41i\n"
     ]
    }
   ],
   "source": [
    "import math\n",
    "\n",
    "def calculate_roots(a, b, c):\n",
    "    discriminant = b**2 - 4*a*c\n",
    "    \n",
    "    if discriminant > 0:\n",
    "        root1 = (-b + math.sqrt(discriminant)) / (2*a)\n",
    "        root2 = (-b - math.sqrt(discriminant)) / (2*a)\n",
    "        print(\"Roots are real and different: {:.2f} and {:.2f}\".format(root1, root2))\n",
    "    else:\n",
    "        if discriminant == 0:\n",
    "            root = -b / (2*a)\n",
    "            print(\"Roots are real and same: {:.2f}\".format(root))\n",
    "        else:\n",
    "            real_part = -b / (2*a)\n",
    "            imaginary_part = math.sqrt(abs(discriminant)) / (2*a)\n",
    "            print(\"Roots are complex: {:.2f} + {:.2f}i and {:.2f} - {:.2f}i\".format(real_part, imaginary_part, real_part, imaginary_part))\n",
    "a = float(input(\"Enter coefficient a: \"))\n",
    "b = float(input(\"Enter coefficient b: \"))\n",
    "c = float(input(\"Enter coefficient c: \"))\n",
    "\n",
    "calculate_roots(a, b, c)\n"
   ]
  },
  {
   "cell_type": "markdown",
   "metadata": {},
   "source": [
    "18. Implement a program to determine the day of the week based on a user-provided number (1 for Monday, 2 for Tuesday, etc.)."
   ]
  },
  {
   "cell_type": "code",
   "execution_count": 23,
   "metadata": {},
   "outputs": [
    {
     "name": "stdout",
     "output_type": "stream",
     "text": [
      "The day of the week is: Sunday\n"
     ]
    }
   ],
   "source": [
    "def determine_day_of_week(number):\n",
    "    if number == 1:\n",
    "        return \"Monday\"\n",
    "    else:\n",
    "        if number == 2:\n",
    "            return \"Tuesday\"\n",
    "        else:\n",
    "            if number == 3:\n",
    "                return \"Wednesday\"\n",
    "            else:\n",
    "                if number == 4:\n",
    "                    return \"Thursday\"\n",
    "                else:\n",
    "                    if number == 5:\n",
    "                        return \"Friday\"\n",
    "                    else:\n",
    "                        if number == 6:\n",
    "                            return \"Saturday\"\n",
    "                        else:\n",
    "                            if number == 7:\n",
    "                                return \"Sunday\"\n",
    "                            else:\n",
    "                                return \"Invalid input\"\n",
    "\n",
    "# Example usage:\n",
    "day_number = int(input(\"Enter a number (1 for Monday, 2 for Tuesday, etc.): \"))\n",
    "day_of_week = determine_day_of_week(day_number)\n",
    "print(\"The day of the week is:\", day_of_week)\n"
   ]
  },
  {
   "cell_type": "markdown",
   "metadata": {},
   "source": [
    "19. Create a program that determines if a year is a leap year and also if it is evenly divisible by 400."
   ]
  },
  {
   "cell_type": "code",
   "execution_count": 24,
   "metadata": {},
   "outputs": [
    {
     "name": "stdout",
     "output_type": "stream",
     "text": [
      "2024 is a leap year.\n"
     ]
    }
   ],
   "source": [
    "def is_leap_year(year):\n",
    "    if year % 4 == 0:\n",
    "        if year % 100 == 0:\n",
    "            if year % 400 == 0:\n",
    "                return True  # Divisible by 400, so it's a leap year\n",
    "            else:\n",
    "                return False  # Not divisible by 400, so it's not a leap year\n",
    "        else:\n",
    "            return True  # Divisible by 4 but not by 100, so it's a leap year\n",
    "    else:\n",
    "        return False  # Not divisible by 4, so it's not a leap year\n",
    "\n",
    "# Example usage:\n",
    "year = int(input(\"Enter a year: \"))\n",
    "if is_leap_year(year):\n",
    "    print(year, \"is a leap year.\")\n",
    "else:\n",
    "    print(year, \"is not a leap year.\")\n"
   ]
  },
  {
   "cell_type": "markdown",
   "metadata": {},
   "source": [
    "20. Develop a program that checks if a given number is prime or not using nested if-else statements."
   ]
  },
  {
   "cell_type": "code",
   "execution_count": 26,
   "metadata": {},
   "outputs": [
    {
     "name": "stdout",
     "output_type": "stream",
     "text": [
      "46 is not a prime number.\n"
     ]
    }
   ],
   "source": [
    "def is_prime(number):\n",
    "    if number <= 1:\n",
    "        return False\n",
    "    elif number <= 3:\n",
    "        return True\n",
    "    else:\n",
    "        for i in range(2, int(number**0.5) + 1):\n",
    "            if number % i == 0:\n",
    "                return False\n",
    "        return True\n",
    "\n",
    "number = int(input(\"Enter a number: \"))\n",
    "if is_prime(number):\n",
    "    print(number, \"is a prime number.\")\n",
    "else:\n",
    "    print(number, \"is not a prime number.\")\n"
   ]
  },
  {
   "cell_type": "markdown",
   "metadata": {},
   "source": [
    "Elif Statements:"
   ]
  },
  {
   "cell_type": "markdown",
   "metadata": {},
   "source": [
    "21. Write a Python program to assign grades based on different ranges of scores using elif statements."
   ]
  },
  {
   "cell_type": "code",
   "execution_count": 27,
   "metadata": {},
   "outputs": [
    {
     "name": "stdout",
     "output_type": "stream",
     "text": [
      "The grade for the score 96.3 is: A\n"
     ]
    }
   ],
   "source": [
    "def assign_grade(score):\n",
    "    if score >= 90:\n",
    "        return \"A\"\n",
    "    elif score >= 80:\n",
    "        return \"B\"\n",
    "    elif score >= 70:\n",
    "        return \"C\"\n",
    "    elif score >= 60:\n",
    "        return \"D\"\n",
    "    else:\n",
    "        return \"F\"\n",
    "\n",
    "# Example usage:\n",
    "score = float(input(\"Enter the score: \"))\n",
    "grade = assign_grade(score)\n",
    "print(\"The grade for the score\", score, \"is:\", grade)\n"
   ]
  },
  {
   "cell_type": "markdown",
   "metadata": {},
   "source": [
    "22. Implement a program to determine the type of a triangle based on its angles."
   ]
  },
  {
   "cell_type": "code",
   "execution_count": 31,
   "metadata": {},
   "outputs": [
    {
     "name": "stdout",
     "output_type": "stream",
     "text": [
      "The triangle is a Right triangle\n"
     ]
    }
   ],
   "source": [
    "def triangle_type(angle1, angle2, angle3):\n",
    "    if angle1 + angle2 + angle3 == 180:\n",
    "        if angle1 == 90 or angle2 == 90 or angle3 == 90:\n",
    "            return \"Right triangle\"\n",
    "        elif angle1 < 90 and angle2 < 90 and angle3 < 90:\n",
    "            return \"Acute triangle\"\n",
    "        else:\n",
    "            return \"Obtuse triangle\"\n",
    "    else:\n",
    "        return \"Invalid triangle\"\n",
    "\n",
    "# Example usage:\n",
    "angle1 = float(input(\"Enter the first angle of the triangle: \"))\n",
    "angle2 = float(input(\"Enter the second angle of the triangle: \"))\n",
    "angle3 = float(input(\"Enter the third angle of the triangle: \"))\n",
    "\n",
    "triangle = triangle_type(angle1, angle2, angle3)\n",
    "print(\"The triangle is a\", triangle)\n"
   ]
  },
  {
   "cell_type": "markdown",
   "metadata": {},
   "source": [
    "23. Develop a program to categorize a given person's BMI into underweight, normal, overweight, or obese using elif statements."
   ]
  },
  {
   "cell_type": "code",
   "execution_count": 34,
   "metadata": {},
   "outputs": [
    {
     "name": "stdout",
     "output_type": "stream",
     "text": [
      "Your BMI is: 24.609733700642796\n",
      "You are categorized as: Normal weight\n"
     ]
    }
   ],
   "source": [
    "def calculate_bmi(weight, height):\n",
    "    return weight / (height ** 2)\n",
    "\n",
    "def categorize_bmi(bmi):\n",
    "    if bmi < 18.5:\n",
    "        return \"Underweight\"\n",
    "    elif bmi < 25:\n",
    "        return \"Normal weight\"\n",
    "    elif bmi < 30:\n",
    "        return \"Overweight\"\n",
    "    else:\n",
    "        return \"Obese\"\n",
    "weight = float(input(\"Enter your weight in kilograms: \"))\n",
    "height = float(input(\"Enter your height in meters: \"))\n",
    "\n",
    "bmi = calculate_bmi(weight, height)\n",
    "category = categorize_bmi(bmi)\n",
    "print(\"Your BMI is:\", bmi)\n",
    "print(\"You are categorized as:\", category)\n"
   ]
  },
  {
   "cell_type": "markdown",
   "metadata": {},
   "source": [
    "24. Create a program that determines whether a given number is positive, negative, or zero using elif statements."
   ]
  },
  {
   "cell_type": "code",
   "execution_count": 35,
   "metadata": {},
   "outputs": [
    {
     "name": "stdout",
     "output_type": "stream",
     "text": [
      "The number is negative.\n"
     ]
    }
   ],
   "source": [
    "def check_number(number):\n",
    "    if number > 0:\n",
    "        print(\"The number is positive.\")\n",
    "    elif number < 0:\n",
    "        print(\"The number is negative.\")\n",
    "    else:\n",
    "        print(\"The number is zero.\")\n",
    "\n",
    "number = float(input(\"Enter a number: \"))\n",
    "check_number(number)\n"
   ]
  },
  {
   "cell_type": "markdown",
   "metadata": {},
   "source": [
    "25. Write a Python script to determine the type of a character (uppercase, lowercase, or special) using elif statements."
   ]
  },
  {
   "cell_type": "code",
   "execution_count": 36,
   "metadata": {},
   "outputs": [
    {
     "name": "stdout",
     "output_type": "stream",
     "text": [
      "The type of the character 'ABHISHEK' is: Uppercase character\n"
     ]
    }
   ],
   "source": [
    "def char_type(char):\n",
    "    if char.isupper():\n",
    "        return \"Uppercase character\"\n",
    "    elif char.islower():\n",
    "        return \"Lowercase character\"\n",
    "    else:\n",
    "        return \"Special character\"\n",
    "\n",
    "character = input(\"Enter a character: \")\n",
    "print(\"The type of the character '{}' is: {}\".format(character, char_type(character)))\n"
   ]
  },
  {
   "cell_type": "markdown",
   "metadata": {},
   "source": [
    "26. Implement a program to calculate the discounted price based on different purchase amounts using elif statements."
   ]
  },
  {
   "cell_type": "code",
   "execution_count": 37,
   "metadata": {},
   "outputs": [
    {
     "name": "stdout",
     "output_type": "stream",
     "text": [
      "The discount is 10%.\n",
      "The discounted price is: $112.72\n"
     ]
    }
   ],
   "source": [
    "def calculate_discounted_price(purchase_amount):\n",
    "    if purchase_amount < 50:\n",
    "        discount = 0\n",
    "    elif purchase_amount < 100:\n",
    "        discount = 5  \n",
    "    elif purchase_amount < 200:\n",
    "        discount = 10  \n",
    "    else:\n",
    "        discount = 15  \n",
    "\n",
    "    discounted_price = purchase_amount - (purchase_amount * discount / 100)\n",
    "    return discounted_price, discount\n",
    "\n",
    "purchase_amount = float(input(\"Enter the purchase amount: $\"))\n",
    "\n",
    "discounted_price, discount = calculate_discounted_price(purchase_amount)\n",
    "\n",
    "print(f\"The discount is {discount}%.\")\n",
    "print(f\"The discounted price is: ${discounted_price:.2f}\")\n"
   ]
  },
  {
   "cell_type": "markdown",
   "metadata": {},
   "source": [
    "27. Develop a program to calculate the electricity bill based on different consumption slabs using elif statements."
   ]
  },
  {
   "cell_type": "code",
   "execution_count": 38,
   "metadata": {},
   "outputs": [
    {
     "name": "stdout",
     "output_type": "stream",
     "text": [
      "The electricity bill for 230.0 units is: $161.00\n"
     ]
    }
   ],
   "source": [
    "def calculate_electricity_bill(units):\n",
    "    if units <= 100:\n",
    "        bill = units * 0.50\n",
    "    elif units <= 200:\n",
    "        bill = (100 * 0.50) + ((units - 100) * 0.75)\n",
    "    elif units <= 300:\n",
    "        bill = (100 * 0.50) + (100 * 0.75) + ((units - 200) * 1.20)\n",
    "    else:\n",
    "        bill = (100 * 0.50) + (100 * 0.75) + (100 * 1.20) + ((units - 300) * 1.50)\n",
    "    \n",
    "    return bill\n",
    "\n",
    "units = float(input(\"Enter the number of units consumed: \"))\n",
    "bill = calculate_electricity_bill(units)\n",
    "print(f\"The electricity bill for {units} units is: ${bill:.2f}\")\n"
   ]
  },
  {
   "cell_type": "markdown",
   "metadata": {},
   "source": [
    "28. Create a program to determine the type of quadrilateral based on its angles and sides using elif statements."
   ]
  },
  {
   "cell_type": "code",
   "execution_count": 42,
   "metadata": {},
   "outputs": [
    {
     "name": "stdout",
     "output_type": "stream",
     "text": [
      "The quadrilateral is a Square.\n"
     ]
    }
   ],
   "source": [
    "def determine_quadrilateral_type(sides, angles):\n",
    "    if sum(angles) != 360:\n",
    "        return \"Invalid quadrilateral\"\n",
    "    a, b, c, d = sides\n",
    "    A, B, C, D = angles\n",
    "\n",
    "    if a == b == c == d:\n",
    "        if A == B == C == D == 90:\n",
    "            return \"Square\"\n",
    "        else:\n",
    "            return \"Rhombus\"\n",
    "    elif (a == c and b == d) or (a == b and c == d):\n",
    "        if A == B == C == D == 90:\n",
    "            return \"Rectangle\"\n",
    "        else:\n",
    "            return \"Parallelogram\"\n",
    "    elif A == C and B == D:\n",
    "        return \"Trapezoid\"\n",
    "    else:\n",
    "        return \"Irregular quadrilateral\"\n",
    "\n",
    "sides = list(map(float, input(\"Enter the four sides of the quadrilateral (separated by spaces): \").split()))\n",
    "angles = list(map(float, input(\"Enter the four angles of the quadrilateral (separated by spaces): \").split()))\n",
    "\n",
    "if len(sides) == 4 and len(angles) == 4:\n",
    "    quadrilateral_type = determine_quadrilateral_type(sides, angles)\n",
    "    print(f\"The quadrilateral is a {quadrilateral_type}.\")\n",
    "else:\n",
    "    print(\"Please enter exactly four sides and four angles.\")\n"
   ]
  },
  {
   "cell_type": "markdown",
   "metadata": {},
   "source": [
    "29. Write a Python script to determine the season based on a user-provided month using elif statements."
   ]
  },
  {
   "cell_type": "code",
   "execution_count": 43,
   "metadata": {},
   "outputs": [
    {
     "name": "stdout",
     "output_type": "stream",
     "text": [
      "The season for month 11 is Autumn.\n"
     ]
    }
   ],
   "source": [
    "def determine_season(month):\n",
    "    if month in (3, 4, 5):\n",
    "        return \"Spring\"\n",
    "    elif month in (6, 7, 8):\n",
    "        return \"Summer\"\n",
    "    elif month in (9, 10, 11):\n",
    "        return \"Autumn\"\n",
    "    elif month in (12, 1, 2):\n",
    "        return \"Winter\"\n",
    "    else:\n",
    "        return \"Invalid month\"\n",
    "month = int(input(\"Enter the month (as a number, 1-12): \"))\n",
    "\n",
    "season = determine_season(month)\n",
    "if season != \"Invalid month\":\n",
    "    print(f\"The season for month {month} is {season}.\")\n",
    "else:\n",
    "    print(\"Invalid input. Please enter a number between 1 and 12.\")\n"
   ]
  },
  {
   "cell_type": "markdown",
   "metadata": {},
   "source": [
    "30. Implement a program to determine the type of a year (leap or common) and month (30 or 31 days) using elif statements."
   ]
  },
  {
   "cell_type": "code",
   "execution_count": 45,
   "metadata": {},
   "outputs": [
    {
     "name": "stdout",
     "output_type": "stream",
     "text": [
      "The year 2024 is a Leap year.\n",
      "The month 11 has 30 days.\n"
     ]
    }
   ],
   "source": [
    "def determine_year_type(year):\n",
    "    if (year % 4 == 0 and year % 100 != 0) or (year % 400 == 0):\n",
    "        return \"Leap year\"\n",
    "    else:\n",
    "        return \"Common year\"\n",
    "\n",
    "def determine_month_days(year, month):\n",
    "    if month in [1, 3, 5, 7, 8, 10, 12]:\n",
    "        return 31\n",
    "    elif month in [4, 6, 9, 11]:\n",
    "        return 30\n",
    "    elif month == 2:\n",
    "        if determine_year_type(year) == \"Leap year\":\n",
    "            return 29\n",
    "        else:\n",
    "            return 28\n",
    "    else:\n",
    "        return \"Invalid month\"\n",
    "year = int(input(\"Enter the year: \"))\n",
    "month = int(input(\"Enter the month (1-12): \"))\n",
    "\n",
    "year_type = determine_year_type(year)\n",
    "days_in_month = determine_month_days(year, month)\n",
    "\n",
    "print(f\"The year {year} is a {year_type}.\")\n",
    "if isinstance(days_in_month, int):\n",
    "    print(f\"The month {month} has {days_in_month} days.\")\n",
    "else:\n",
    "    print(\"Invalid month entered. Please enter a month between 1 and 12.\")\n"
   ]
  },
  {
   "cell_type": "markdown",
   "metadata": {},
   "source": [
    "Basic Level:"
   ]
  },
  {
   "cell_type": "markdown",
   "metadata": {},
   "source": [
    "1. Write a Python program that checks if a given number is positive, negative, or zero."
   ]
  },
  {
   "cell_type": "code",
   "execution_count": 47,
   "metadata": {},
   "outputs": [
    {
     "name": "stdout",
     "output_type": "stream",
     "text": [
      "The number is zero.\n"
     ]
    }
   ],
   "source": [
    "def check_number(number):\n",
    "    if number > 0:\n",
    "        return \"The number is positive.\"\n",
    "    elif number < 0:\n",
    "        return \"The number is negative.\"\n",
    "    else:\n",
    "        return \"The number is zero.\"\n",
    "\n",
    "number = float(input(\"Enter a number: \"))\n",
    "result = check_number(number)\n",
    "print(result)\n"
   ]
  },
  {
   "cell_type": "markdown",
   "metadata": {},
   "source": [
    "2. Create a program to determine if a person is eligible to vote based on their age."
   ]
  },
  {
   "cell_type": "code",
   "execution_count": 48,
   "metadata": {},
   "outputs": [
    {
     "name": "stdout",
     "output_type": "stream",
     "text": [
      "You are eligible to vote.\n"
     ]
    }
   ],
   "source": [
    "def check_voting_eligibility(age):\n",
    "    if age >= 18:\n",
    "        return \"You are eligible to vote.\"\n",
    "    else:\n",
    "        return \"You are not eligible to vote.\"\n",
    "\n",
    "age = int(input(\"Enter your age: \"))\n",
    "result = check_voting_eligibility(age)\n",
    "print(result)\n"
   ]
  },
  {
   "cell_type": "markdown",
   "metadata": {},
   "source": [
    "3. Write a program to find the maximum of two given numbers using conditional statements."
   ]
  },
  {
   "cell_type": "code",
   "execution_count": 49,
   "metadata": {},
   "outputs": [
    {
     "name": "stdout",
     "output_type": "stream",
     "text": [
      "The maximum of the two numbers is: Both numbers are equal.\n"
     ]
    }
   ],
   "source": [
    "def find_maximum(num1, num2):\n",
    "    if num1 > num2:\n",
    "        return num1\n",
    "    elif num2 > num1:\n",
    "        return num2\n",
    "    else:\n",
    "        return \"Both numbers are equal.\"\n",
    "\n",
    "num1 = float(input(\"Enter the first number: \"))\n",
    "num2 = float(input(\"Enter the second number: \"))\n",
    "result = find_maximum(num1, num2)\n",
    "print(f\"The maximum of the two numbers is: {result}\")\n"
   ]
  },
  {
   "cell_type": "markdown",
   "metadata": {},
   "source": [
    "4. Develop a program that calculates the grade of a student based on their exam score."
   ]
  },
  {
   "cell_type": "code",
   "execution_count": 50,
   "metadata": {},
   "outputs": [
    {
     "name": "stdout",
     "output_type": "stream",
     "text": [
      "The student's grade is: C\n"
     ]
    }
   ],
   "source": [
    "def calculate_grade(score):\n",
    "    if score >= 90:\n",
    "        return \"A\"\n",
    "    elif score >= 80:\n",
    "        return \"B\"\n",
    "    elif score >= 70:\n",
    "        return \"C\"\n",
    "    elif score >= 60:\n",
    "        return \"D\"\n",
    "    else:\n",
    "        return \"F\"\n",
    "try:\n",
    "    score = float(input(\"Enter the student's exam score (0-100): \"))\n",
    "    if 0 <= score <= 100:\n",
    "        grade = calculate_grade(score)\n",
    "        print(f\"The student's grade is: {grade}\")\n",
    "    else:\n",
    "        print(\"Invalid score. Please enter a number between 0 and 100.\")\n",
    "except ValueError:\n",
    "    print(\"Invalid input. Please enter a valid numerical score.\")\n"
   ]
  },
  {
   "cell_type": "markdown",
   "metadata": {},
   "source": [
    "5. Create a program that checks if a year is a leap year or not."
   ]
  },
  {
   "cell_type": "code",
   "execution_count": 51,
   "metadata": {},
   "outputs": [
    {
     "name": "stdout",
     "output_type": "stream",
     "text": [
      "2023 is not a leap year.\n"
     ]
    }
   ],
   "source": [
    "def is_leap_year(year):\n",
    "    if (year % 4 == 0):\n",
    "        if (year % 100 == 0):\n",
    "            if (year % 400 == 0):\n",
    "                return True\n",
    "            else:\n",
    "                return False\n",
    "        else:\n",
    "            return True\n",
    "    else:\n",
    "        return False\n",
    "year = int(input(\"Enter a year: \"))\n",
    "if is_leap_year(year):\n",
    "    print(f\"{year} is a leap year.\")\n",
    "else:\n",
    "    print(f\"{year} is not a leap year.\")\n"
   ]
  },
  {
   "cell_type": "markdown",
   "metadata": {},
   "source": [
    "6. Write a program to classify a triangle based on its sides' lengths."
   ]
  },
  {
   "cell_type": "code",
   "execution_count": 52,
   "metadata": {},
   "outputs": [
    {
     "name": "stdout",
     "output_type": "stream",
     "text": [
      "The triangle is: Scalene triangle\n"
     ]
    }
   ],
   "source": [
    "def classify_triangle(a, b, c):\n",
    "    if a <= 0 or b <= 0 or c <= 0:\n",
    "        return \"Invalid triangle. Side lengths should be positive numbers.\"\n",
    "    if a + b <= c or a + c <= b or b + c <= a:\n",
    "        return \"Invalid triangle. The sum of any two sides must be greater than the third side.\"\n",
    "\n",
    "    if a == b == c:\n",
    "        return \"Equilateral triangle\"\n",
    "    elif a == b or b == c or a == c:\n",
    "        return \"Isosceles triangle\"\n",
    "    else:\n",
    "        return \"Scalene triangle\"\n",
    "\n",
    "try:\n",
    "    a = float(input(\"Enter the length of the first side: \"))\n",
    "    b = float(input(\"Enter the length of the second side: \"))\n",
    "    c = float(input(\"Enter the length of the third side: \"))\n",
    "    triangle_type = classify_triangle(a, b, c)\n",
    "    print(f\"The triangle is: {triangle_type}\")\n",
    "except ValueError:\n",
    "    print(\"Invalid input. Please enter numerical values for the sides.\")\n"
   ]
  },
  {
   "cell_type": "markdown",
   "metadata": {},
   "source": [
    "7. Build a program that determines the largest of three given numbers."
   ]
  },
  {
   "cell_type": "code",
   "execution_count": 53,
   "metadata": {},
   "outputs": [
    {
     "name": "stdout",
     "output_type": "stream",
     "text": [
      "The largest of the three numbers is: 4.5\n"
     ]
    }
   ],
   "source": [
    "def find_largest(num1, num2, num3):\n",
    "    if num1 >= num2 and num1 >= num3:\n",
    "        return num1\n",
    "    elif num2 >= num1 and num2 >= num3:\n",
    "        return num2\n",
    "    else:\n",
    "        return num3\n",
    "\n",
    "\n",
    "try:\n",
    "    num1 = float(input(\"Enter the first number: \"))\n",
    "    num2 = float(input(\"Enter the second number: \"))\n",
    "    num3 = float(input(\"Enter the third number: \"))\n",
    "    largest_number = find_largest(num1, num2, num3)\n",
    "    print(f\"The largest of the three numbers is: {largest_number}\")\n",
    "except ValueError:\n",
    "    print(\"Invalid input. Please enter numerical values.\")\n"
   ]
  },
  {
   "cell_type": "markdown",
   "metadata": {},
   "source": [
    "8. Develop a program that checks whether a character is a vowel or a consonant."
   ]
  },
  {
   "cell_type": "code",
   "execution_count": 55,
   "metadata": {},
   "outputs": [
    {
     "name": "stdout",
     "output_type": "stream",
     "text": [
      "The character 'abhishek' is a Consonant.\n"
     ]
    }
   ],
   "source": [
    "def check_vowel_or_consonant(character):\n",
    "    vowels = \"aeiouAEIOU\"\n",
    "    if character.isalpha():\n",
    "        if character in vowels:\n",
    "            return \"Vowel\"\n",
    "        else:\n",
    "            return \"Consonant\"\n",
    "    else:\n",
    "        return \"Not a valid alphabet character\"\n",
    "character = input(\"Enter a character: \")\n",
    "result = check_vowel_or_consonant(character)\n",
    "print(f\"The character '{character}' is a {result}.\")\n"
   ]
  },
  {
   "cell_type": "markdown",
   "metadata": {},
   "source": [
    "9. Create a program to calculate the total cost of a shopping cart based on discounts."
   ]
  },
  {
   "cell_type": "code",
   "execution_count": 58,
   "metadata": {},
   "outputs": [
    {
     "name": "stdout",
     "output_type": "stream",
     "text": [
      "The total cost of the shopping cart is: $76.00\n"
     ]
    }
   ],
   "source": [
    "def calculate_total_cost(items, prices):\n",
    "    total_cost = sum(prices)\n",
    "    if total_cost >= 100:\n",
    "        total_cost *= 0.9 \n",
    "    elif total_cost >= 50:\n",
    "        total_cost *= 0.95 \n",
    "\n",
    "    return total_cost\n",
    "\n",
    "items = [\"Item 1\", \"Item 2\", \"Item 3\"]\n",
    "prices = [10, 30, 40]\n",
    "total_cost = calculate_total_cost(items, prices)\n",
    "print(f\"The total cost of the shopping cart is: ${total_cost:.2f}\")\n"
   ]
  },
  {
   "cell_type": "markdown",
   "metadata": {},
   "source": [
    "10. Write a program that checks if a given number is even or odd."
   ]
  },
  {
   "cell_type": "code",
   "execution_count": 59,
   "metadata": {},
   "outputs": [
    {
     "name": "stdout",
     "output_type": "stream",
     "text": [
      "The number 8 is Even.\n"
     ]
    }
   ],
   "source": [
    "def check_even_or_odd(number):\n",
    "    if number % 2 == 0:\n",
    "        return \"Even\"\n",
    "    else:\n",
    "        return \"Odd\"\n",
    "\n",
    "try:\n",
    "    number = int(input(\"Enter a number: \"))\n",
    "    result = check_even_or_odd(number)\n",
    "    print(f\"The number {number} is {result}.\")\n",
    "except ValueError:\n",
    "    print(\"Invalid input. Please enter an integer.\")\n"
   ]
  },
  {
   "cell_type": "markdown",
   "metadata": {},
   "source": [
    "Intermediate Level:"
   ]
  },
  {
   "cell_type": "markdown",
   "metadata": {},
   "source": [
    "11. Write a program that calculates the roots of a quadratic equation ."
   ]
  },
  {
   "cell_type": "code",
   "execution_count": 61,
   "metadata": {},
   "outputs": [
    {
     "name": "stdout",
     "output_type": "stream",
     "text": [
      "Roots of the quadratic equation: ('Two complex roots:', -0.6666666666666666, '+', 1.114924013354971, 'i and', -0.6666666666666666, '-', 1.114924013354971, 'i')\n"
     ]
    }
   ],
   "source": [
    "import math\n",
    "\n",
    "def calculate_roots(a, b, c):\n",
    "    discriminant = b**2 - 4*a*c\n",
    "\n",
    "    if discriminant > 0:\n",
    "        root1 = (-b + math.sqrt(discriminant)) / (2*a)\n",
    "        root2 = (-b - math.sqrt(discriminant)) / (2*a)\n",
    "        return \"Two distinct real roots:\", root1, \"and\", root2\n",
    "    elif discriminant == 0:\n",
    "        root = -b / (2*a)\n",
    "        return \"One real root:\", root\n",
    "    else:\n",
    "        real_part = -b / (2*a)\n",
    "        imaginary_part = math.sqrt(abs(discriminant)) / (2*a)\n",
    "        return \"Two complex roots:\", real_part, \"+\", imaginary_part, \"i and\", real_part, \"-\", imaginary_part, \"i\"\n",
    "try:\n",
    "    a = float(input(\"Enter the coefficient of x^2 (a): \"))\n",
    "    b = float(input(\"Enter the coefficient of x (b): \"))\n",
    "    c = float(input(\"Enter the constant term (c): \"))\n",
    "    roots = calculate_roots(a, b, c)\n",
    "    print(\"Roots of the quadratic equation:\", roots)\n",
    "except ValueError:\n",
    "    print(\"Invalid input. Please enter numerical values for coefficients.\")\n"
   ]
  },
  {
   "cell_type": "markdown",
   "metadata": {},
   "source": [
    "12. Create a program that determines the day of the week based on the day number (1-7)."
   ]
  },
  {
   "cell_type": "code",
   "execution_count": 62,
   "metadata": {},
   "outputs": [
    {
     "name": "stdout",
     "output_type": "stream",
     "text": [
      "The day of the week corresponding to day number 7 is Sunday.\n"
     ]
    }
   ],
   "source": [
    "def determine_day_of_week(day_number):\n",
    "    if day_number == 1:\n",
    "        return \"Monday\"\n",
    "    elif day_number == 2:\n",
    "        return \"Tuesday\"\n",
    "    elif day_number == 3:\n",
    "        return \"Wednesday\"\n",
    "    elif day_number == 4:\n",
    "        return \"Thursday\"\n",
    "    elif day_number == 5:\n",
    "        return \"Friday\"\n",
    "    elif day_number == 6:\n",
    "        return \"Saturday\"\n",
    "    elif day_number == 7:\n",
    "        return \"Sunday\"\n",
    "    else:\n",
    "        return \"Invalid day number. Please enter a number between 1 and 7.\"\n",
    "\n",
    "try:\n",
    "    day_number = int(input(\"Enter the day number (1-7): \"))\n",
    "    if 1 <= day_number <= 7:\n",
    "        day_of_week = determine_day_of_week(day_number)\n",
    "        print(f\"The day of the week corresponding to day number {day_number} is {day_of_week}.\")\n",
    "    else:\n",
    "        print(\"Invalid day number. Please enter a number between 1 and 7.\")\n",
    "except ValueError:\n",
    "    print(\"Invalid input. Please enter an integer.\")\n"
   ]
  },
  {
   "cell_type": "markdown",
   "metadata": {},
   "source": [
    "13. Develop a program that calculates the factorial of a given number using recursion."
   ]
  },
  {
   "cell_type": "code",
   "execution_count": 66,
   "metadata": {},
   "outputs": [
    {
     "name": "stdout",
     "output_type": "stream",
     "text": [
      "The factorial of 6 is: 720\n"
     ]
    }
   ],
   "source": [
    "def factorial(n):\n",
    "    if n == 0:\n",
    "        return 1\n",
    "    else:\n",
    "        return n * factorial(n-1)\n",
    "try:\n",
    "    number = int(input(\"Enter a non-negative integer: \"))\n",
    "    if number < 0:\n",
    "        print(\"Factorial is not defined for negative numbers.\")\n",
    "    else:\n",
    "        result = factorial(number)\n",
    "        print(f\"The factorial of {number} is: {result}\")\n",
    "except ValueError:\n",
    "    print(\"Invalid input. Please enter a non-negative integer.\")\n"
   ]
  },
  {
   "cell_type": "markdown",
   "metadata": {},
   "source": [
    "14. Write a program to find the largest among three numbers without using the `max()` function."
   ]
  },
  {
   "cell_type": "code",
   "execution_count": 68,
   "metadata": {},
   "outputs": [
    {
     "name": "stdout",
     "output_type": "stream",
     "text": [
      "The largest of the three numbers is: 45.0\n"
     ]
    }
   ],
   "source": [
    "def find_largest(num1, num2, num3):\n",
    "    if num1 >= num2 and num1 >= num3:\n",
    "        return num1\n",
    "    elif num2 >= num1 and num2 >= num3:\n",
    "        return num2\n",
    "    else:\n",
    "        return num3\n",
    "\n",
    "try:\n",
    "    num1 = float(input(\"Enter the first number: \"))\n",
    "    num2 = float(input(\"Enter the second number: \"))\n",
    "    num3 = float(input(\"Enter the third number: \"))\n",
    "    largest_number = find_largest(num1, num2, num3)\n",
    "    print(f\"The largest of the three numbers is: {largest_number}\")\n",
    "except ValueError:\n",
    "    print(\"Invalid input. Please enter numerical values.\")\n"
   ]
  },
  {
   "cell_type": "markdown",
   "metadata": {},
   "source": [
    "15. Create a program that simulates a basic ATM transaction menu."
   ]
  },
  {
   "cell_type": "code",
   "execution_count": 70,
   "metadata": {},
   "outputs": [
    {
     "name": "stdout",
     "output_type": "stream",
     "text": [
      "\n",
      "1. Check Balance\n",
      "2. Deposit\n",
      "3. Withdraw\n",
      "4. Exit\n",
      "Withdrawal successful. Your new balance is $400.00\n",
      "\n",
      "1. Check Balance\n",
      "2. Deposit\n",
      "3. Withdraw\n",
      "4. Exit\n",
      "Thank you for using our ATM. Goodbye!\n"
     ]
    }
   ],
   "source": [
    "def check_balance(balance):\n",
    "    print(f\"Your current balance is ${balance:.2f}\")\n",
    "\n",
    "def deposit(balance, amount):\n",
    "    balance += amount\n",
    "    print(f\"Deposit successful. Your new balance is ${balance:.2f}\")\n",
    "    return balance\n",
    "\n",
    "def withdraw(balance, amount):\n",
    "    if amount <= balance:\n",
    "        balance -= amount\n",
    "        print(f\"Withdrawal successful. Your new balance is ${balance:.2f}\")\n",
    "        return balance\n",
    "    else:\n",
    "        print(\"Insufficient funds. Withdrawal cannot be processed.\")\n",
    "        return balance\n",
    "\n",
    "balance = 1000.00\n",
    "while True:\n",
    "    print(\"\\n1. Check Balance\")\n",
    "    print(\"2. Deposit\")\n",
    "    print(\"3. Withdraw\")\n",
    "    print(\"4. Exit\")\n",
    "    choice = input(\"Enter your choice (1-4): \")\n",
    "    \n",
    "    if choice == '1':\n",
    "        check_balance(balance)\n",
    "    elif choice == '2':\n",
    "        amount = float(input(\"Enter the amount to deposit: $\"))\n",
    "        balance = deposit(balance, amount)\n",
    "    elif choice == '3':\n",
    "        amount = float(input(\"Enter the amount to withdraw: $\"))\n",
    "        balance = withdraw(balance, amount)\n",
    "    elif choice == '4':\n",
    "        print(\"Thank you for using our ATM. Goodbye!\")\n",
    "        break\n",
    "    else:\n",
    "        print(\"Invalid choice. Please enter a number between 1 and 4.\")\n"
   ]
  },
  {
   "cell_type": "markdown",
   "metadata": {},
   "source": [
    "16. Build a program that checks if a given string is a palindrome or not."
   ]
  },
  {
   "cell_type": "code",
   "execution_count": 72,
   "metadata": {},
   "outputs": [
    {
     "name": "stdout",
     "output_type": "stream",
     "text": [
      "The string is a palindrome.\n"
     ]
    }
   ],
   "source": [
    "def is_palindrome(string):\n",
    "    cleaned_string = ''.join(char.lower() for char in string if char.isalnum())\n",
    "    return cleaned_string == cleaned_string[::-1]\n",
    "\n",
    "input_string = input(\"Enter a string: \")\n",
    "if is_palindrome(input_string):\n",
    "    print(\"The string is a palindrome.\")\n",
    "else:\n",
    "    print(\"The string is not a palindrome.\")"
   ]
  },
  {
   "cell_type": "markdown",
   "metadata": {},
   "source": [
    "17. Write a program that calculates the average of a list of numbers, excluding the smallest and largest values."
   ]
  },
  {
   "cell_type": "code",
   "execution_count": 73,
   "metadata": {},
   "outputs": [
    {
     "name": "stdout",
     "output_type": "stream",
     "text": [
      "The average of the list (excluding smallest and largest values) is: 45.00\n"
     ]
    }
   ],
   "source": [
    "def calculate_average(numbers):\n",
    "    if len(numbers) <= 2:\n",
    "        return \"List must contain at least 3 numbers\"\n",
    "    numbers.sort()\n",
    "    numbers = numbers[1:-1]\n",
    "    \n",
    "    average = sum(numbers) / len(numbers)\n",
    "    return average\n",
    "try:\n",
    "    numbers = [float(num) for num in input(\"Enter a list of numbers separated by spaces: \").split()]\n",
    "    average = calculate_average(numbers)\n",
    "    print(f\"The average of the list (excluding smallest and largest values) is: {average:.2f}\")\n",
    "except ValueError:\n",
    "    print(\"Invalid input. Please enter numerical values separated by spaces.\")\n"
   ]
  },
  {
   "cell_type": "markdown",
   "metadata": {},
   "source": [
    "18. Develop a program that converts a given temperature from Celsius to Fahrenheit."
   ]
  },
  {
   "cell_type": "code",
   "execution_count": 74,
   "metadata": {},
   "outputs": [
    {
     "name": "stdout",
     "output_type": "stream",
     "text": [
      "40.0°C is equal to 104.00°F\n"
     ]
    }
   ],
   "source": [
    "def celsius_to_fahrenheit(celsius):\n",
    "    return (celsius * 9/5) + 32\n",
    "try:\n",
    "    celsius = float(input(\"Enter temperature in Celsius: \"))\n",
    "    fahrenheit = celsius_to_fahrenheit(celsius)\n",
    "    print(f\"{celsius}°C is equal to {fahrenheit:.2f}°F\")\n",
    "except ValueError:\n",
    "    print(\"Invalid input. Please enter a numerical value.\")\n"
   ]
  },
  {
   "cell_type": "markdown",
   "metadata": {},
   "source": [
    "19. Create a program that simulates a basic calculator for addition, subtraction, multiplication, and division."
   ]
  },
  {
   "cell_type": "code",
   "execution_count": 75,
   "metadata": {},
   "outputs": [
    {
     "name": "stdout",
     "output_type": "stream",
     "text": [
      "\n",
      "Select operation:\n",
      "1. Addition\n",
      "2. Subtraction\n",
      "3. Multiplication\n",
      "4. Division\n",
      "5. Exit\n",
      "The result of multiplication is: 12.0\n",
      "\n",
      "Select operation:\n",
      "1. Addition\n",
      "2. Subtraction\n",
      "3. Multiplication\n",
      "4. Division\n",
      "5. Exit\n",
      "Exiting the calculator. Goodbye!\n"
     ]
    }
   ],
   "source": [
    "def add(x, y):\n",
    "    return x + y\n",
    "\n",
    "def subtract(x, y):\n",
    "    return x - y\n",
    "\n",
    "def multiply(x, y):\n",
    "    return x * y\n",
    "\n",
    "def divide(x, y):\n",
    "    if y == 0:\n",
    "        return \"Error! Division by zero.\"\n",
    "    else:\n",
    "        return x / y\n",
    "\n",
    "while True:\n",
    "    print(\"\\nSelect operation:\")\n",
    "    print(\"1. Addition\")\n",
    "    print(\"2. Subtraction\")\n",
    "    print(\"3. Multiplication\")\n",
    "    print(\"4. Division\")\n",
    "    print(\"5. Exit\")\n",
    "    \n",
    "    choice = input(\"Enter choice (1/2/3/4/5): \")\n",
    "    \n",
    "    if choice in ['1', '2', '3', '4']:\n",
    "        try:\n",
    "            num1 = float(input(\"Enter first number: \"))\n",
    "            num2 = float(input(\"Enter second number: \"))\n",
    "            \n",
    "            if choice == '1':\n",
    "                print(f\"The result of addition is: {add(num1, num2)}\")\n",
    "            elif choice == '2':\n",
    "                print(f\"The result of subtraction is: {subtract(num1, num2)}\")\n",
    "            elif choice == '3':\n",
    "                print(f\"The result of multiplication is: {multiply(num1, num2)}\")\n",
    "            elif choice == '4':\n",
    "                print(f\"The result of division is: {divide(num1, num2)}\")\n",
    "        except ValueError:\n",
    "            print(\"Invalid input. Please enter numerical values.\")\n",
    "    elif choice == '5':\n",
    "        print(\"Exiting the calculator. Goodbye!\")\n",
    "        break\n",
    "    else:\n",
    "        print(\"Invalid choice. Please select a valid operation.\")\n"
   ]
  },
  {
   "cell_type": "markdown",
   "metadata": {},
   "source": [
    "20. Write a program that determines the roots of a cubic equation using the Cardano formula."
   ]
  },
  {
   "cell_type": "code",
   "execution_count": 76,
   "metadata": {},
   "outputs": [
    {
     "name": "stdout",
     "output_type": "stream",
     "text": [
      "The roots of the cubic equation are: (0.3424236260259029+0.9091658684409983j), (-0.13385107468930602-0.6341885417748643j), (-1.7085725513365968-0.27497732666613406j)\n"
     ]
    }
   ],
   "source": [
    "import cmath\n",
    "\n",
    "def solve_cubic(a, b, c, d):\n",
    "    if a == 0:\n",
    "        raise ValueError(\"Coefficient 'a' must not be zero.\")\n",
    "    a, b, c, d = b/a, c/a, d/a, d/a\n",
    "    p = (3 * c - b**2) / 3\n",
    "    q = (2 * b**3 - 9 * b * c + 27 * d) / 27\n",
    "    discriminant = (q / 2)**2 + (p / 3)**3\n",
    "    if discriminant > 0:\n",
    "        u = ((-q / 2) + cmath.sqrt(discriminant))**(1/3)\n",
    "        v = ((-q / 2) - cmath.sqrt(discriminant))**(1/3)\n",
    "    else:\n",
    "        r = cmath.sqrt((-p / 3)**3)\n",
    "        theta = cmath.acos((-q / (2 * r)))\n",
    "        u = r**(1/3)\n",
    "        v = r**(1/3)\n",
    "\n",
    "    x1 = u + v - b / 3\n",
    "    x2 = -(u + v) / 2 - b / 3 + (u - v) * cmath.sqrt(3) * 1j / 2\n",
    "    x3 = -(u + v) / 2 - b / 3 - (u - v) * cmath.sqrt(3) * 1j / 2\n",
    "    \n",
    "    return (x1, x2, x3)\n",
    "a = float(input(\"Enter coefficient a: \"))\n",
    "b = float(input(\"Enter coefficient b: \"))\n",
    "c = float(input(\"Enter coefficient c: \"))\n",
    "d = float(input(\"Enter coefficient d: \"))\n",
    "\n",
    "roots = solve_cubic(a, b, c, d)\n",
    "print(f\"The roots of the cubic equation are: {roots[0]}, {roots[1]}, {roots[2]}\")\n"
   ]
  },
  {
   "cell_type": "markdown",
   "metadata": {},
   "source": [
    "Advanced Level:"
   ]
  },
  {
   "cell_type": "markdown",
   "metadata": {},
   "source": [
    "21. Create a program that calculates the income tax based on the user's income and tax brackets."
   ]
  },
  {
   "cell_type": "code",
   "execution_count": 77,
   "metadata": {},
   "outputs": [
    {
     "name": "stdout",
     "output_type": "stream",
     "text": [
      "The income tax for an income of $50000.00 is $6790.00\n"
     ]
    }
   ],
   "source": [
    "def calculate_tax(income):\n",
    "    brackets = [\n",
    "        (9875, 0.10),\n",
    "        (40125, 0.12),\n",
    "        (85525, 0.22),\n",
    "        (163300, 0.24),\n",
    "        (207350, 0.32),\n",
    "        (518400, 0.35),\n",
    "        (float('inf'), 0.37)\n",
    "    ]\n",
    "    \n",
    "    tax = 0\n",
    "    previous_bracket_limit = 0\n",
    "    \n",
    "    for limit, rate in brackets:\n",
    "        if income > limit:\n",
    "            tax += (limit - previous_bracket_limit) * rate\n",
    "            previous_bracket_limit = limit\n",
    "        else:\n",
    "            tax += (income - previous_bracket_limit) * rate\n",
    "            break\n",
    "    \n",
    "    return tax\n",
    "income = float(input(\"Enter your income: \"))\n",
    "tax = calculate_tax(income)\n",
    "print(f\"The income tax for an income of ${income:.2f} is ${tax:.2f}\")\n"
   ]
  },
  {
   "cell_type": "markdown",
   "metadata": {},
   "source": [
    "22. Write a program that simulates a rock-paper-scissors game against the computer."
   ]
  },
  {
   "cell_type": "code",
   "execution_count": 78,
   "metadata": {},
   "outputs": [
    {
     "name": "stdout",
     "output_type": "stream",
     "text": [
      "Welcome to Rock-Paper-Scissors!\n",
      "You chose: rock\n",
      "Computer chose: scissors\n",
      "You win!\n"
     ]
    }
   ],
   "source": [
    "import random\n",
    "\n",
    "def get_computer_choice():\n",
    "    choices = [\"rock\", \"paper\", \"scissors\"]\n",
    "    return random.choice(choices)\n",
    "\n",
    "def get_user_choice():\n",
    "    user_choice = input(\"Enter your choice (rock, paper, or scissors): \").lower()\n",
    "    while user_choice not in [\"rock\", \"paper\", \"scissors\"]:\n",
    "        print(\"Invalid choice. Please try again.\")\n",
    "        user_choice = input(\"Enter your choice (rock, paper, or scissors): \").lower()\n",
    "    return user_choice\n",
    "\n",
    "def determine_winner(user_choice, computer_choice):\n",
    "    if user_choice == computer_choice:\n",
    "        return \"It's a tie!\"\n",
    "    elif (user_choice == \"rock\" and computer_choice == \"scissors\") or \\\n",
    "         (user_choice == \"paper\" and computer_choice == \"rock\") or \\\n",
    "         (user_choice == \"scissors\" and computer_choice == \"paper\"):\n",
    "        return \"You win!\"\n",
    "    else:\n",
    "        return \"You lose!\"\n",
    "\n",
    "def play_game():\n",
    "    print(\"Welcome to Rock-Paper-Scissors!\")\n",
    "    user_choice = get_user_choice()\n",
    "    computer_choice = get_computer_choice()\n",
    "    print(f\"You chose: {user_choice}\")\n",
    "    print(f\"Computer chose: {computer_choice}\")\n",
    "    result = determine_winner(user_choice, computer_choice)\n",
    "    print(result)\n",
    "\n",
    "play_game()\n"
   ]
  },
  {
   "cell_type": "markdown",
   "metadata": {},
   "source": [
    "23. Develop a program that generates a random password based on user preferences (length, complexity)."
   ]
  },
  {
   "cell_type": "code",
   "execution_count": 82,
   "metadata": {},
   "outputs": [
    {
     "name": "stdout",
     "output_type": "stream",
     "text": [
      "Welcome to the Password Generator!\n",
      "Select the complexity of the password:\n",
      "Generated password: 3RFyN\n"
     ]
    }
   ],
   "source": [
    "import random\n",
    "import string\n",
    "\n",
    "def generate_password(length, use_uppercase, use_lowercase, use_digits, use_special):\n",
    "    character_pool = ''\n",
    "    \n",
    "    if use_uppercase:\n",
    "        character_pool += string.ascii_uppercase\n",
    "    if use_lowercase:\n",
    "        character_pool += string.ascii_lowercase\n",
    "    if use_digits:\n",
    "        character_pool += string.digits\n",
    "    if use_special:\n",
    "        character_pool += string.punctuation\n",
    "    \n",
    "    if not character_pool:\n",
    "        raise ValueError(\"At least one character type must be selected\")\n",
    "    \n",
    "    password = ''.join(random.choice(character_pool) for _ in range(length))\n",
    "    return password\n",
    "\n",
    "def main():\n",
    "    print(\"Welcome to the Password Generator!\")\n",
    "    length = int(input(\"Enter the desired length of the password: \"))\n",
    "    \n",
    "    print(\"Select the complexity of the password:\")\n",
    "    use_uppercase = input(\"Include uppercase letters? (yes/no): \").lower() == 'yes'\n",
    "    use_lowercase = input(\"Include lowercase letters? (yes/no): \").lower() == 'yes'\n",
    "    use_digits = input(\"Include digits? (yes/no): \").lower() == 'yes'\n",
    "    use_special = input(\"Include special characters? (yes/no): \").lower() == 'yes'\n",
    "    \n",
    "    try:\n",
    "        password = generate_password(length, use_uppercase, use_lowercase, use_digits, use_special)\n",
    "        print(f\"Generated password: {password}\")\n",
    "    except ValueError as e:\n",
    "        print(e)\n",
    "\n",
    "# Run the main function\n",
    "main()\n"
   ]
  },
  {
   "cell_type": "markdown",
   "metadata": {},
   "source": [
    "24. Create a program that implements a simple text-based adventure game with branching scenarios."
   ]
  },
  {
   "cell_type": "code",
   "execution_count": 83,
   "metadata": {},
   "outputs": [
    {
     "name": "stdout",
     "output_type": "stream",
     "text": [
      "Welcome to the Adventure Game!\n",
      "You find yourself at a crossroads in a dense forest.\n",
      "1. Go left\n",
      "2. Go right\n",
      "\n",
      "You chose to go right.\n",
      "You find a hidden treasure chest.\n",
      "1. Open the chest\n",
      "2. Leave it alone\n",
      "\n",
      "You open the chest and find a heap of gold coins.\n",
      "1. Take the gold\n",
      "2. Leave the gold\n",
      "\n",
      "You take the gold and become incredibly wealthy.\n",
      "Congratulations! You've reached a wealthy ending.\n",
      "Thank you for playing!\n"
     ]
    }
   ],
   "source": [
    "def start_game():\n",
    "    print(\"Welcome to the Adventure Game!\")\n",
    "    print(\"You find yourself at a crossroads in a dense forest.\")\n",
    "    print(\"1. Go left\")\n",
    "    print(\"2. Go right\")\n",
    "    choice = input(\"Enter your choice (1 or 2): \")\n",
    "    \n",
    "    if choice == '1':\n",
    "        go_left()\n",
    "    elif choice == '2':\n",
    "        go_right()\n",
    "    else:\n",
    "        print(\"Invalid choice. Try again.\")\n",
    "        start_game()\n",
    "\n",
    "def go_left():\n",
    "    print(\"\\nYou chose to go left.\")\n",
    "    print(\"You encounter a friendly dragon who offers you a ride.\")\n",
    "    print(\"1. Accept the ride\")\n",
    "    print(\"2. Politely decline\")\n",
    "    choice = input(\"Enter your choice (1 or 2): \")\n",
    "    \n",
    "    if choice == '1':\n",
    "        accept_ride()\n",
    "    elif choice == '2':\n",
    "        decline_ride()\n",
    "    else:\n",
    "        print(\"Invalid choice. Try again.\")\n",
    "        go_left()\n",
    "\n",
    "def go_right():\n",
    "    print(\"\\nYou chose to go right.\")\n",
    "    print(\"You find a hidden treasure chest.\")\n",
    "    print(\"1. Open the chest\")\n",
    "    print(\"2. Leave it alone\")\n",
    "    choice = input(\"Enter your choice (1 or 2): \")\n",
    "    \n",
    "    if choice == '1':\n",
    "        open_chest()\n",
    "    elif choice == '2':\n",
    "        leave_chest()\n",
    "    else:\n",
    "        print(\"Invalid choice. Try again.\")\n",
    "        go_right()\n",
    "\n",
    "def accept_ride():\n",
    "    print(\"\\nYou accept the ride from the dragon.\")\n",
    "    print(\"The dragon takes you to a magical castle in the sky.\")\n",
    "    print(\"1. Explore the castle\")\n",
    "    print(\"2. Ask the dragon to take you back\")\n",
    "    choice = input(\"Enter your choice (1 or 2): \")\n",
    "    \n",
    "    if choice == '1':\n",
    "        explore_castle()\n",
    "    elif choice == '2':\n",
    "        go_back()\n",
    "    else:\n",
    "        print(\"Invalid choice. Try again.\")\n",
    "        accept_ride()\n",
    "\n",
    "def decline_ride():\n",
    "    print(\"\\nYou decline the ride and continue on foot.\")\n",
    "    print(\"You find a peaceful meadow and decide to rest.\")\n",
    "    print(\"Congratulations! You've reached a safe ending.\")\n",
    "    play_again()\n",
    "\n",
    "def open_chest():\n",
    "    print(\"\\nYou open the chest and find a heap of gold coins.\")\n",
    "    print(\"1. Take the gold\")\n",
    "    print(\"2. Leave the gold\")\n",
    "    choice = input(\"Enter your choice (1 or 2): \")\n",
    "    \n",
    "    if choice == '1':\n",
    "        take_gold()\n",
    "    elif choice == '2':\n",
    "        leave_gold()\n",
    "    else:\n",
    "        print(\"Invalid choice. Try again.\")\n",
    "        open_chest()\n",
    "\n",
    "def leave_chest():\n",
    "    print(\"\\nYou leave the chest alone and continue your journey.\")\n",
    "    print(\"You find a quiet village and decide to settle down.\")\n",
    "    print(\"Congratulations! You've reached a safe ending.\")\n",
    "    play_again()\n",
    "\n",
    "def explore_castle():\n",
    "    print(\"\\nYou explore the castle and find a room filled with ancient artifacts.\")\n",
    "    print(\"1. Examine the artifacts\")\n",
    "    print(\"2. Leave the room\")\n",
    "    choice = input(\"Enter your choice (1 or 2): \")\n",
    "    \n",
    "    if choice == '1':\n",
    "        examine_artifacts()\n",
    "    elif choice == '2':\n",
    "        leave_room()\n",
    "    else:\n",
    "        print(\"Invalid choice. Try again.\")\n",
    "        explore_castle()\n",
    "\n",
    "def go_back():\n",
    "    print(\"\\nThe dragon takes you back to the crossroads.\")\n",
    "    start_game()\n",
    "\n",
    "def take_gold():\n",
    "    print(\"\\nYou take the gold and become incredibly wealthy.\")\n",
    "    print(\"Congratulations! You've reached a wealthy ending.\")\n",
    "    play_again()\n",
    "\n",
    "def leave_gold():\n",
    "    print(\"\\nYou leave the gold and continue your journey with a clear conscience.\")\n",
    "    print(\"You find happiness in a simple life.\")\n",
    "    print(\"Congratulations! You've reached a happy ending.\")\n",
    "    play_again()\n",
    "\n",
    "def examine_artifacts():\n",
    "    print(\"\\nYou examine the artifacts and trigger a hidden trap.\")\n",
    "    print(\"You narrowly escape but decide to leave the castle.\")\n",
    "    go_back()\n",
    "\n",
    "def leave_room():\n",
    "    print(\"\\nYou leave the room and decide to explore other parts of the castle.\")\n",
    "    print(\"You find a library filled with ancient knowledge.\")\n",
    "    print(\"Congratulations! You've reached a scholarly ending.\")\n",
    "    play_again()\n",
    "\n",
    "def play_again():\n",
    "    choice = input(\"\\nDo you want to play again? (yes or no): \").lower()\n",
    "    if choice == 'yes':\n",
    "        start_game()\n",
    "    elif choice == 'no':\n",
    "        print(\"Thank you for playing!\")\n",
    "    else:\n",
    "        print(\"Invalid choice. Please enter 'yes' or 'no'.\")\n",
    "        play_again()\n",
    "\n",
    "start_game()\n"
   ]
  },
  {
   "cell_type": "markdown",
   "metadata": {},
   "source": [
    "25. Build a program that solves a linear equation for x, considering different cases."
   ]
  },
  {
   "cell_type": "code",
   "execution_count": 84,
   "metadata": {},
   "outputs": [
    {
     "name": "stdout",
     "output_type": "stream",
     "text": [
      "Welcome to the Linear Equation Solver!\n",
      "Enter the coefficients of the linear equation ax + b = c:\n",
      "The solution is x = -0.9618644067796611\n"
     ]
    }
   ],
   "source": [
    "def solve_linear_equation(a, b, c):\n",
    "    if a == 0:\n",
    "        if b == 0:\n",
    "            if c == 0:\n",
    "                print(\"Infinite solutions (trivial identity)\")\n",
    "            else:\n",
    "                print(\"No solution\")\n",
    "        else:\n",
    "            x = -c / b\n",
    "            print(f\"The solution is x = {x}\")\n",
    "    else:\n",
    "        x = (c - b) / a\n",
    "        print(f\"The solution is x = {x}\")\n",
    "\n",
    "def main():\n",
    "    print(\"Welcome to the Linear Equation Solver!\")\n",
    "    print(\"Enter the coefficients of the linear equation ax + b = c:\")\n",
    "    a = float(input(\"Enter the value of a: \"))\n",
    "    b = float(input(\"Enter the value of b: \"))\n",
    "    c = float(input(\"Enter the value of c: \"))\n",
    "    solve_linear_equation(a, b, c)\n",
    "main()\n"
   ]
  },
  {
   "cell_type": "markdown",
   "metadata": {},
   "source": [
    "26. Write a program that simulates a basic quiz game with multiple-choice questions and scoring."
   ]
  },
  {
   "cell_type": "code",
   "execution_count": 85,
   "metadata": {},
   "outputs": [
    {
     "name": "stdout",
     "output_type": "stream",
     "text": [
      "Welcome to the Quiz Game!\n",
      "\n",
      "Question 1:\n",
      "What is the capital of France?\n",
      "1. Paris\n",
      "2. London\n",
      "3. Berlin\n",
      "4. Rome\n",
      "\n",
      "Correct!\n",
      "\n",
      "Question 2:\n",
      "Who wrote 'Romeo and Juliet'?\n",
      "1. William Shakespeare\n",
      "2. Jane Austen\n",
      "3. Charles Dickens\n",
      "4. Emily Bronte\n",
      "\n",
      "Correct!\n",
      "\n",
      "Question 3:\n",
      "What is the chemical symbol for gold?\n",
      "1. Au\n",
      "2. Ag\n",
      "3. Fe\n",
      "4. Cu\n",
      "\n",
      "Correct!\n",
      "\n",
      "Your final score is 3/3.\n"
     ]
    }
   ],
   "source": [
    "def display_question(question, options):\n",
    "    print(question)\n",
    "    for i, option in enumerate(options, start=1):\n",
    "        print(f\"{i}. {option}\")\n",
    "    print()\n",
    "\n",
    "def get_player_answer():\n",
    "    while True:\n",
    "        choice = input(\"Enter your choice (1, 2, 3, or 4): \")\n",
    "        if choice.isdigit() and 1 <= int(choice) <= 4:\n",
    "            return int(choice)\n",
    "        else:\n",
    "            print(\"Invalid choice. Please enter a number between 1 and 4.\")\n",
    "\n",
    "def evaluate_answer(player_answer, correct_answer, score):\n",
    "    if player_answer == correct_answer:\n",
    "        print(\"Correct!\")\n",
    "        return score + 1\n",
    "    else:\n",
    "        print(\"Incorrect!\")\n",
    "        return score\n",
    "\n",
    "def main():\n",
    "    questions = [\n",
    "        {\n",
    "            \"question\": \"What is the capital of France?\",\n",
    "            \"options\": [\"Paris\", \"London\", \"Berlin\", \"Rome\"],\n",
    "            \"correct_answer\": 1\n",
    "        },\n",
    "        {\n",
    "            \"question\": \"Who wrote 'Romeo and Juliet'?\",\n",
    "            \"options\": [\"William Shakespeare\", \"Jane Austen\", \"Charles Dickens\", \"Emily Bronte\"],\n",
    "            \"correct_answer\": 1\n",
    "        },\n",
    "        {\n",
    "            \"question\": \"What is the chemical symbol for gold?\",\n",
    "            \"options\": [\"Au\", \"Ag\", \"Fe\", \"Cu\"],\n",
    "            \"correct_answer\": 1\n",
    "        }\n",
    "    ]\n",
    "\n",
    "    print(\"Welcome to the Quiz Game!\\n\")\n",
    "\n",
    "    score = 0\n",
    "    for index, question_data in enumerate(questions, start=1):\n",
    "        print(f\"Question {index}:\")\n",
    "        display_question(question_data[\"question\"], question_data[\"options\"])\n",
    "        player_answer = get_player_answer()\n",
    "        score = evaluate_answer(player_answer, question_data[\"correct_answer\"], score)\n",
    "        print()\n",
    "\n",
    "    print(f\"Your final score is {score}/{len(questions)}.\")\n",
    "main()\n"
   ]
  },
  {
   "cell_type": "markdown",
   "metadata": {},
   "source": [
    "27. Develop a program that determines whether a given year is a prime number or not."
   ]
  },
  {
   "cell_type": "code",
   "execution_count": 86,
   "metadata": {},
   "outputs": [
    {
     "name": "stdout",
     "output_type": "stream",
     "text": [
      "The year 2024 is not a prime number.\n"
     ]
    }
   ],
   "source": [
    "def is_prime(number):\n",
    "    if number <= 1:\n",
    "        return False\n",
    "    for i in range(2, int(number ** 0.5) + 1):\n",
    "        if number % i == 0:\n",
    "            return False\n",
    "    return True\n",
    "\n",
    "def main():\n",
    "    year = int(input(\"Enter a year: \"))\n",
    "    if is_prime(year):\n",
    "        print(f\"The year {year} is a prime number.\")\n",
    "    else:\n",
    "        print(f\"The year {year} is not a prime number.\")\n",
    "\n",
    "main()\n"
   ]
  },
  {
   "cell_type": "markdown",
   "metadata": {},
   "source": [
    "28. Create a program that sorts three numbers in ascending order using conditional statements."
   ]
  },
  {
   "cell_type": "code",
   "execution_count": 87,
   "metadata": {},
   "outputs": [
    {
     "name": "stdout",
     "output_type": "stream",
     "text": [
      "The numbers in ascending order are: (234.0, 543.0, 987.0)\n"
     ]
    }
   ],
   "source": [
    "def sort_three_numbers(a, b, c):\n",
    "    if a > b:\n",
    "        a, b = b, a  # Swap a and b if a is greater than b\n",
    "    if a > c:\n",
    "        a, c = c, a  # Swap a and c if a is greater than c\n",
    "    if b > c:\n",
    "        b, c = c, b  # Swap b and c if b is greater than c\n",
    "\n",
    "    return a, b, c\n",
    "\n",
    "def main():\n",
    "    a = float(input(\"Enter the first number: \"))\n",
    "    b = float(input(\"Enter the second number: \"))\n",
    "    c = float(input(\"Enter the third number: \"))\n",
    "\n",
    "    sorted_numbers = sort_three_numbers(a, b, c)\n",
    "    print(\"The numbers in ascending order are:\", sorted_numbers)\n",
    "main()\n"
   ]
  },
  {
   "cell_type": "markdown",
   "metadata": {},
   "source": [
    "29. Build a program that determines the roots of a quartic equation using numerical methods."
   ]
  },
  {
   "cell_type": "code",
   "execution_count": 88,
   "metadata": {},
   "outputs": [
    {
     "name": "stdout",
     "output_type": "stream",
     "text": [
      "Welcome to the Quartic Equation Solver!\n",
      "Enter the coefficients of the quartic equation ax^4 + bx^3 + cx^2 + dx + e:\n",
      "A root of the quartic equation is approximately -0.074411.\n"
     ]
    }
   ],
   "source": [
    "def quartic_function(x, coefficients):\n",
    "    \"\"\"\n",
    "    Evaluate the quartic function at a given point x.\n",
    "    coefficients: list of coefficients [a, b, c, d, e] for the equation ax^4 + bx^3 + cx^2 + dx + e.\n",
    "    \"\"\"\n",
    "    a, b, c, d, e = coefficients\n",
    "    return a*x**4 + b*x**3 + c*x**2 + d*x + e\n",
    "\n",
    "def quartic_derivative(x, coefficients):\n",
    "    \"\"\"\n",
    "    Evaluate the derivative of the quartic function at a given point x.\n",
    "    coefficients: list of coefficients [a, b, c, d, e] for the equation ax^4 + bx^3 + cx^2 + dx + e.\n",
    "    \"\"\"\n",
    "    a, b, c, d, _ = coefficients\n",
    "    return 4*a*x**3 + 3*b*x**2 + 2*c*x + d\n",
    "\n",
    "def newton_raphson_quartic(coefficients, initial_guess, tolerance=1e-6, max_iterations=1000):\n",
    "    \"\"\"\n",
    "    Find a root of the quartic equation using the Newton-Raphson method.\n",
    "    coefficients: list of coefficients [a, b, c, d, e] for the equation ax^4 + bx^3 + cx^2 + dx + e.\n",
    "    initial_guess: initial guess for the root.\n",
    "    tolerance: desired accuracy of the root.\n",
    "    max_iterations: maximum number of iterations.\n",
    "    \"\"\"\n",
    "    x = initial_guess\n",
    "    for _ in range(max_iterations):\n",
    "        fx = quartic_function(x, coefficients)\n",
    "        if abs(fx) < tolerance:\n",
    "            return x\n",
    "        f_prime_x = quartic_derivative(x, coefficients)\n",
    "        x -= fx / f_prime_x\n",
    "    return None  # Root not found within max_iterations\n",
    "\n",
    "def main():\n",
    "    print(\"Welcome to the Quartic Equation Solver!\")\n",
    "    print(\"Enter the coefficients of the quartic equation ax^4 + bx^3 + cx^2 + dx + e:\")\n",
    "    a = float(input(\"Enter the value of a: \"))\n",
    "    b = float(input(\"Enter the value of b: \"))\n",
    "    c = float(input(\"Enter the value of c: \"))\n",
    "    d = float(input(\"Enter the value of d: \"))\n",
    "    e = float(input(\"Enter the value of e: \"))\n",
    "    coefficients = [a, b, c, d, e]\n",
    "\n",
    "    initial_guess = float(input(\"Enter an initial guess for the root: \"))\n",
    "\n",
    "    root = newton_raphson_quartic(coefficients, initial_guess)\n",
    "    if root is not None:\n",
    "        print(f\"A root of the quartic equation is approximately {root:.6f}.\")\n",
    "    else:\n",
    "        print(\"Failed to find a root within the maximum number of iterations.\")\n",
    "\n",
    "if __name__ == \"__main__\":\n",
    "    main()\n"
   ]
  },
  {
   "cell_type": "markdown",
   "metadata": {},
   "source": [
    "30. Write a program that calculates the BMI (Body Mass Index) and provides health recommendations based on the user's input."
   ]
  },
  {
   "cell_type": "code",
   "execution_count": 89,
   "metadata": {},
   "outputs": [
    {
     "name": "stdout",
     "output_type": "stream",
     "text": [
      "Welcome to the BMI Calculator and Health Advisor!\n",
      "Your BMI is: 22.21\n",
      "Health recommendation: Normal weight: Keep up the good work!\n"
     ]
    }
   ],
   "source": [
    "def calculate_bmi(weight, height):\n",
    "    \"\"\"\n",
    "    Calculate the Body Mass Index (BMI) using weight in kilograms and height in meters.\n",
    "    \"\"\"\n",
    "    return weight / (height ** 2)\n",
    "\n",
    "def get_health_recommendation(bmi):\n",
    "    \"\"\"\n",
    "    Provide health recommendations based on BMI.\n",
    "    \"\"\"\n",
    "    if bmi < 18.5:\n",
    "        return \"Underweight: You may need to gain some weight to reach a healthier BMI range.\"\n",
    "    elif 18.5 <= bmi < 25:\n",
    "        return \"Normal weight: Keep up the good work!\"\n",
    "    elif 25 <= bmi < 30:\n",
    "        return \"Overweight: Consider losing some weight to reach a healthier BMI range.\"\n",
    "    else:\n",
    "        return \"Obese: It's important to consult a healthcare professional for personalized advice.\"\n",
    "\n",
    "def main():\n",
    "    print(\"Welcome to the BMI Calculator and Health Advisor!\")\n",
    "    weight = float(input(\"Enter your weight in kilograms: \"))\n",
    "    height = float(input(\"Enter your height in meters: \"))\n",
    "\n",
    "    bmi = calculate_bmi(weight, height)\n",
    "    print(f\"Your BMI is: {bmi:.2f}\")\n",
    "\n",
    "    recommendation = get_health_recommendation(bmi)\n",
    "    print(\"Health recommendation:\", recommendation)\n",
    "\n",
    "if __name__ == \"__main__\":\n",
    "    main()\n"
   ]
  },
  {
   "cell_type": "markdown",
   "metadata": {},
   "source": [
    "Challenge Level:"
   ]
  },
  {
   "cell_type": "markdown",
   "metadata": {},
   "source": [
    "31. Create a program that validates a password based on complexity rules (length, characters, etc.)."
   ]
  },
  {
   "cell_type": "code",
   "execution_count": 90,
   "metadata": {},
   "outputs": [
    {
     "name": "stdout",
     "output_type": "stream",
     "text": [
      "Welcome to the Password Validator!\n",
      "Congratulations! Your password is valid.\n"
     ]
    }
   ],
   "source": [
    "import re\n",
    "\n",
    "def is_valid_password(password):\n",
    "    \"\"\"\n",
    "    Validate a password based on complexity rules.\n",
    "    Returns True if the password is valid, False otherwise.\n",
    "    \"\"\"\n",
    "\n",
    "    min_length = 8\n",
    "    has_lowercase = bool(re.search(r'[a-z]', password))\n",
    "    has_uppercase = bool(re.search(r'[A-Z]', password))\n",
    "    has_digit = bool(re.search(r'\\d', password))\n",
    "    has_special_char = bool(re.search(r'[!@#$%^&*(),.?\":{}|<>]', password))\n",
    "\n",
    "   \n",
    "    return (len(password) >= min_length and\n",
    "            has_lowercase and has_uppercase and\n",
    "            has_digit and has_special_char)\n",
    "\n",
    "def main():\n",
    "    print(\"Welcome to the Password Validator!\")\n",
    "    password = input(\"Enter your password: \")\n",
    "\n",
    "    if is_valid_password(password):\n",
    "        print(\"Congratulations! Your password is valid.\")\n",
    "    else:\n",
    "        print(\"Sorry, your password is not valid. Please ensure it meets the complexity requirements.\")\n",
    "\n",
    "if __name__ == \"__main__\":\n",
    "    main()\n"
   ]
  },
  {
   "cell_type": "markdown",
   "metadata": {},
   "source": [
    "32. Develop a program that performs matrix addition and subtraction based on user input."
   ]
  },
  {
   "cell_type": "code",
   "execution_count": 94,
   "metadata": {},
   "outputs": [
    {
     "name": "stdout",
     "output_type": "stream",
     "text": [
      "Welcome to the Matrix Addition and Subtraction Program!\n",
      "Enter the elements of the first matrix:\n",
      "Enter the elements of the 3x3 matrix:\n",
      "Enter the elements of the second matrix:\n",
      "Enter the elements of the 3x3 matrix:\n",
      "\n",
      "Matrix 1:\n",
      "[2.0, 4.0, 6.0]\n",
      "[12.0, 14.0, 16.0]\n",
      "[22.0, 24.0, 26.0]\n",
      "\n",
      "Matrix 2:\n",
      "[32.0, 34.0, 36.0]\n",
      "[42.0, 44.0, 46.0]\n",
      "[52.0, 54.0, 56.0]\n",
      "\n",
      "Matrix Addition:\n",
      "[34.0, 38.0, 42.0]\n",
      "[54.0, 58.0, 62.0]\n",
      "[74.0, 78.0, 82.0]\n",
      "\n",
      "Matrix Subtraction:\n",
      "[-30.0, -30.0, -30.0]\n",
      "[-30.0, -30.0, -30.0]\n",
      "[-30.0, -30.0, -30.0]\n"
     ]
    }
   ],
   "source": [
    "def matrix_input(rows, cols):\n",
    "    \"\"\"\n",
    "    Prompt the user to enter the elements of a matrix.\n",
    "    \"\"\"\n",
    "    matrix = []\n",
    "    print(f\"Enter the elements of the {rows}x{cols} matrix:\")\n",
    "    for i in range(rows):\n",
    "        row = []\n",
    "        for j in range(cols):\n",
    "            element = float(input(f\"Enter element at position ({i+1},{j+1}): \"))\n",
    "            row.append(element)\n",
    "        matrix.append(row)\n",
    "    return matrix\n",
    "\n",
    "def matrix_addition(matrix1, matrix2):\n",
    "    \"\"\"\n",
    "    Perform matrix addition.\n",
    "    \"\"\"\n",
    "    result = []\n",
    "    for i in range(len(matrix1)):\n",
    "        row = []\n",
    "        for j in range(len(matrix1[0])):\n",
    "            row.append(matrix1[i][j] + matrix2[i][j])\n",
    "        result.append(row)\n",
    "    return result\n",
    "\n",
    "def matrix_subtraction(matrix1, matrix2):\n",
    "    \"\"\"\n",
    "    Perform matrix subtraction.\n",
    "    \"\"\"\n",
    "    result = []\n",
    "    for i in range(len(matrix1)):\n",
    "        row = []\n",
    "        for j in range(len(matrix1[0])):\n",
    "            row.append(matrix1[i][j] - matrix2[i][j])\n",
    "        result.append(row)\n",
    "    return result\n",
    "\n",
    "def display_matrix(matrix):\n",
    "    \"\"\"\n",
    "    Display a matrix.\n",
    "    \"\"\"\n",
    "    for row in matrix:\n",
    "        print(row)\n",
    "\n",
    "def main():\n",
    "    print(\"Welcome to the Matrix Addition and Subtraction Program!\")\n",
    "    rows = int(input(\"Enter the number of rows: \"))\n",
    "    cols = int(input(\"Enter the number of columns: \"))\n",
    "\n",
    "    print(\"Enter the elements of the first matrix:\")\n",
    "    matrix1 = matrix_input(rows, cols)\n",
    "\n",
    "    print(\"Enter the elements of the second matrix:\")\n",
    "    matrix2 = matrix_input(rows, cols)\n",
    "\n",
    "    print(\"\\nMatrix 1:\")\n",
    "    display_matrix(matrix1)\n",
    "    print(\"\\nMatrix 2:\")\n",
    "    display_matrix(matrix2)\n",
    "\n",
    "    print(\"\\nMatrix Addition:\")\n",
    "    result_addition = matrix_addition(matrix1, matrix2)\n",
    "    display_matrix(result_addition)\n",
    "\n",
    "    print(\"\\nMatrix Subtraction:\")\n",
    "    result_subtraction = matrix_subtraction(matrix1, matrix2)\n",
    "    display_matrix(result_subtraction)\n",
    "\n",
    "if __name__ == \"__main__\":\n",
    "    main()\n"
   ]
  },
  {
   "cell_type": "markdown",
   "metadata": {},
   "source": [
    "33. Write a program that calculates the greatest common divisor (GCD) of two numbers using the Euclidean algorithm."
   ]
  },
  {
   "cell_type": "code",
   "execution_count": 95,
   "metadata": {},
   "outputs": [
    {
     "name": "stdout",
     "output_type": "stream",
     "text": [
      "Welcome to the GCD Calculator using the Euclidean algorithm!\n",
      "The greatest common divisor (GCD) of 44 and 56 is: 4\n"
     ]
    }
   ],
   "source": [
    "def gcd(a, b):\n",
    "    \"\"\"\n",
    "    Calculate the greatest common divisor (GCD) of two numbers using the Euclidean algorithm.\n",
    "    \"\"\"\n",
    "    while b:\n",
    "        a, b = b, a % b\n",
    "    return a\n",
    "\n",
    "def main():\n",
    "    print(\"Welcome to the GCD Calculator using the Euclidean algorithm!\")\n",
    "    num1 = int(input(\"Enter the first number: \"))\n",
    "    num2 = int(input(\"Enter the second number: \"))\n",
    "\n",
    "    result = gcd(num1, num2)\n",
    "    print(f\"The greatest common divisor (GCD) of {num1} and {num2} is: {result}\")\n",
    "\n",
    "if __name__ == \"__main__\":\n",
    "    main()\n"
   ]
  },
  {
   "cell_type": "markdown",
   "metadata": {},
   "source": [
    "34. Build a program that performs matrix multiplication using nested loops and conditional statements."
   ]
  },
  {
   "cell_type": "code",
   "execution_count": 96,
   "metadata": {},
   "outputs": [
    {
     "name": "stdout",
     "output_type": "stream",
     "text": [
      "Welcome to the Matrix Multiplication Program!\n",
      "Enter the elements of matrix 1:\n",
      "Enter the elements of the 2x2 matrix:\n",
      "Enter the elements of matrix 2:\n",
      "Enter the elements of the 2x2 matrix:\n",
      "\n",
      "Matrix 1:\n",
      "[12.0, 24.0]\n",
      "[36.0, 48.0]\n",
      "\n",
      "Matrix 2:\n",
      "[8.0, 16.0]\n",
      "[24.0, 36.0]\n",
      "\n",
      "Matrix Multiplication:\n",
      "[672.0, 1056.0]\n",
      "[1440.0, 2304.0]\n"
     ]
    }
   ],
   "source": [
    "def matrix_input(rows, cols):\n",
    "    \"\"\"\n",
    "    Prompt the user to enter the elements of a matrix.\n",
    "    \"\"\"\n",
    "    matrix = []\n",
    "    print(f\"Enter the elements of the {rows}x{cols} matrix:\")\n",
    "    for i in range(rows):\n",
    "        row = []\n",
    "        for j in range(cols):\n",
    "            element = float(input(f\"Enter element at position ({i+1},{j+1}): \"))\n",
    "            row.append(element)\n",
    "        matrix.append(row)\n",
    "    return matrix\n",
    "\n",
    "def matrix_multiplication(matrix1, matrix2):\n",
    "    \"\"\"\n",
    "    Perform matrix multiplication.\n",
    "    \"\"\"\n",
    "    result = []\n",
    "    for i in range(len(matrix1)):\n",
    "        row = []\n",
    "        for j in range(len(matrix2[0])):\n",
    "            sum = 0\n",
    "            for k in range(len(matrix2)):\n",
    "                sum += matrix1[i][k] * matrix2[k][j]\n",
    "            row.append(sum)\n",
    "        result.append(row)\n",
    "    return result\n",
    "\n",
    "def display_matrix(matrix):\n",
    "    \"\"\"\n",
    "    Display a matrix.\n",
    "    \"\"\"\n",
    "    for row in matrix:\n",
    "        print(row)\n",
    "\n",
    "def main():\n",
    "    print(\"Welcome to the Matrix Multiplication Program!\")\n",
    "    rows1 = int(input(\"Enter the number of rows for matrix 1: \"))\n",
    "    cols1 = int(input(\"Enter the number of columns for matrix 1: \"))\n",
    "\n",
    "    rows2 = int(input(\"Enter the number of rows for matrix 2: \"))\n",
    "    cols2 = int(input(\"Enter the number of columns for matrix 2: \"))\n",
    "\n",
    "    if cols1 != rows2:\n",
    "        print(\"Error: Number of columns of matrix 1 must be equal to number of rows of matrix 2.\")\n",
    "        return\n",
    "\n",
    "    print(\"Enter the elements of matrix 1:\")\n",
    "    matrix1 = matrix_input(rows1, cols1)\n",
    "\n",
    "    print(\"Enter the elements of matrix 2:\")\n",
    "    matrix2 = matrix_input(rows2, cols2)\n",
    "\n",
    "    print(\"\\nMatrix 1:\")\n",
    "    display_matrix(matrix1)\n",
    "    print(\"\\nMatrix 2:\")\n",
    "    display_matrix(matrix2)\n",
    "\n",
    "    print(\"\\nMatrix Multiplication:\")\n",
    "    result = matrix_multiplication(matrix1, matrix2)\n",
    "    display_matrix(result)\n",
    "\n",
    "if __name__ == \"__main__\":\n",
    "    main()\n"
   ]
  },
  {
   "cell_type": "markdown",
   "metadata": {},
   "source": [
    "35. Create a program that simulates a basic text-based tic-tac-toe game against the computer."
   ]
  },
  {
   "cell_type": "code",
   "execution_count": 2,
   "metadata": {},
   "outputs": [
    {
     "name": "stdout",
     "output_type": "stream",
     "text": [
      "Welcome to Tic-Tac-Toe!\n",
      "  |   |  \n",
      "-----\n",
      "  |   |  \n",
      "-----\n",
      "  |   |  \n",
      "-----\n",
      "Your turn:\n",
      "X |   |  \n",
      "-----\n",
      "  |   |  \n",
      "-----\n",
      "  |   |  \n",
      "-----\n",
      "Computer's turn:\n",
      "X | O |  \n",
      "-----\n",
      "  |   |  \n",
      "-----\n",
      "  |   |  \n",
      "-----\n",
      "Your turn:\n",
      "X | O |  \n",
      "-----\n",
      "  | X |  \n",
      "-----\n",
      "  |   |  \n",
      "-----\n",
      "Computer's turn:\n",
      "X | O |  \n",
      "-----\n",
      "  | X |  \n",
      "-----\n",
      "  |   | O\n",
      "-----\n",
      "Your turn:\n",
      "Invalid move. Try again.\n",
      "X | O |  \n",
      "-----\n",
      "X | X |  \n",
      "-----\n",
      "  |   | O\n",
      "-----\n",
      "Computer's turn:\n",
      "X | O |  \n",
      "-----\n",
      "X | X |  \n",
      "-----\n",
      "  | O | O\n",
      "-----\n",
      "Your turn:\n",
      "X | O | X\n",
      "-----\n",
      "X | X |  \n",
      "-----\n",
      "  | O | O\n",
      "-----\n",
      "Computer's turn:\n",
      "X | O | X\n",
      "-----\n",
      "X | X |  \n",
      "-----\n",
      "O | O | O\n",
      "-----\n",
      "Sorry, the computer wins!\n"
     ]
    }
   ],
   "source": [
    "import random\n",
    "\n",
    "def print_board(board):\n",
    "    for row in board:\n",
    "        print(\" | \".join(row))\n",
    "        print(\"-\" * 5)\n",
    "\n",
    "def check_winner(board, player):\n",
    "    # Check rows, columns, and diagonals\n",
    "    for i in range(3):\n",
    "        if all([cell == player for cell in board[i]]):\n",
    "            return True\n",
    "        if all([board[j][i] == player for j in range(3)]):\n",
    "            return True\n",
    "    if all([board[i][i] == player for i in range(3)]) or all([board[i][2-i] == player for i in range(3)]):\n",
    "        return True\n",
    "    return False\n",
    "\n",
    "def get_available_moves(board):\n",
    "    moves = []\n",
    "    for i in range(3):\n",
    "        for j in range(3):\n",
    "            if board[i][j] == ' ':\n",
    "                moves.append((i, j))\n",
    "    return moves\n",
    "\n",
    "def player_move(board):\n",
    "    while True:\n",
    "        try:\n",
    "            move = input(\"Enter your move (row and column numbers from 0 to 2 separated by a space): \")\n",
    "            row, col = map(int, move.split())\n",
    "            if (row in range(3)) and (col in range(3)) and board[row][col] == ' ':\n",
    "                board[row][col] = 'X'\n",
    "                break\n",
    "            else:\n",
    "                print(\"Invalid move. Try again.\")\n",
    "        except ValueError:\n",
    "            print(\"Invalid input. Please enter two numbers separated by a space.\")\n",
    "\n",
    "def computer_move(board):\n",
    "    moves = get_available_moves(board)\n",
    "    if moves:\n",
    "        row, col = random.choice(moves)\n",
    "        board[row][col] = 'O'\n",
    "\n",
    "def main():\n",
    "    board = [[' ' for _ in range(3)] for _ in range(3)]\n",
    "    print(\"Welcome to Tic-Tac-Toe!\")\n",
    "    print_board(board)\n",
    "\n",
    "    for turn in range(9):\n",
    "        if turn % 2 == 0:\n",
    "            print(\"Your turn:\")\n",
    "            player_move(board)\n",
    "        else:\n",
    "            print(\"Computer's turn:\")\n",
    "            computer_move(board)\n",
    "        print_board(board)\n",
    "\n",
    "        if turn >= 4:\n",
    "            if check_winner(board, 'X'):\n",
    "                print(\"Congratulations! You win!\")\n",
    "                break\n",
    "            if check_winner(board, 'O'):\n",
    "                print(\"Sorry, the computer wins!\")\n",
    "                break\n",
    "    else:\n",
    "        print(\"It's a draw!\")\n",
    "\n",
    "if __name__ == \"__main__\":\n",
    "    main()\n"
   ]
  },
  {
   "cell_type": "markdown",
   "metadata": {},
   "source": [
    "36. Write a program that generates Fibonacci numbers up to a specified term using iterative methods."
   ]
  },
  {
   "cell_type": "code",
   "execution_count": 3,
   "metadata": {},
   "outputs": [
    {
     "name": "stdout",
     "output_type": "stream",
     "text": [
      "Fibonacci sequence up to 6 terms:\n",
      "[0, 1, 1, 2, 3, 5]\n"
     ]
    }
   ],
   "source": [
    "def generate_fibonacci(n):\n",
    "    if n <= 0:\n",
    "        return []\n",
    "    elif n == 1:\n",
    "        return [0]\n",
    "    elif n == 2:\n",
    "        return [0, 1]\n",
    "    \n",
    "    fib_sequence = [0, 1]\n",
    "    for i in range(2, n):\n",
    "        next_fib = fib_sequence[-1] + fib_sequence[-2]\n",
    "        fib_sequence.append(next_fib)\n",
    "    \n",
    "    return fib_sequence\n",
    "\n",
    "def main():\n",
    "    while True:\n",
    "        try:\n",
    "            n = int(input(\"Enter the number of terms for Fibonacci sequence: \"))\n",
    "            if n < 0:\n",
    "                print(\"Please enter a non-negative integer.\")\n",
    "                continue\n",
    "            break\n",
    "        except ValueError:\n",
    "            print(\"Invalid input. Please enter an integer.\")\n",
    "\n",
    "    fibonacci_numbers = generate_fibonacci(n)\n",
    "    print(f\"Fibonacci sequence up to {n} terms:\")\n",
    "    print(fibonacci_numbers)\n",
    "\n",
    "if __name__ == \"__main__\":\n",
    "    main()\n"
   ]
  },
  {
   "cell_type": "markdown",
   "metadata": {},
   "source": [
    "37. Develop a program that calculates the nth term of the Fibonacci sequence using memoization."
   ]
  },
  {
   "cell_type": "code",
   "execution_count": 5,
   "metadata": {},
   "outputs": [
    {
     "name": "stdout",
     "output_type": "stream",
     "text": [
      "The 10th term of the Fibonacci sequence is: 55\n"
     ]
    }
   ],
   "source": [
    "def fibonacci_memo(n, memo={}):\n",
    "    if n in memo:\n",
    "        return memo[n]\n",
    "    if n <= 1:\n",
    "        return n\n",
    "    memo[n] = fibonacci_memo(n-1, memo) + fibonacci_memo(n-2, memo)\n",
    "    return memo[n]\n",
    "\n",
    "def main():\n",
    "    while True:\n",
    "        try:\n",
    "            n = int(input(\"Enter the term number for the Fibonacci sequence: \"))\n",
    "            if n < 0:\n",
    "                print(\"Please enter a non-negative integer.\")\n",
    "                continue\n",
    "            break\n",
    "        except ValueError:\n",
    "            print(\"Invalid input. Please enter an integer.\")\n",
    "\n",
    "    result = fibonacci_memo(n)\n",
    "    print(f\"The {n}th term of the Fibonacci sequence is: {result}\")\n",
    "\n",
    "if __name__ == \"__main__\":\n",
    "    main()\n"
   ]
  },
  {
   "cell_type": "markdown",
   "metadata": {},
   "source": [
    "38. Create a program that generates a calendar for a given month and year using conditional statements."
   ]
  },
  {
   "cell_type": "code",
   "execution_count": 6,
   "metadata": {},
   "outputs": [
    {
     "name": "stdout",
     "output_type": "stream",
     "text": [
      "January 2024\n",
      "Mo Tu We Th Fr Sa Su\n",
      " 1  2  3  4  5  6  7 \n",
      " 8  9 10 11 12 13 14 \n",
      "15 16 17 18 19 20 21 \n",
      "22 23 24 25 26 27 28 \n",
      "29 30 31             \n"
     ]
    }
   ],
   "source": [
    "import calendar\n",
    "\n",
    "def print_calendar(year, month):\n",
    "    if month < 1 or month > 12:\n",
    "        print(\"Invalid month. Please enter a month between 1 and 12.\")\n",
    "        return\n",
    "\n",
    "    if year < 1:\n",
    "        print(\"Invalid year. Please enter a positive year.\")\n",
    "        return\n",
    "    cal = calendar.monthcalendar(year, month)\n",
    "    month_name = calendar.month_name[month]\n",
    "\n",
    "    print(f\"{month_name} {year}\")\n",
    "    print(\"Mo Tu We Th Fr Sa Su\")\n",
    "    \n",
    "    for week in cal:\n",
    "        week_str = \"\"\n",
    "        for day in week:\n",
    "            if day == 0:\n",
    "                week_str += \"   \"\n",
    "            else:\n",
    "                week_str += f\"{day:2} \"\n",
    "        print(week_str)\n",
    "\n",
    "def main():\n",
    "    while True:\n",
    "        try:\n",
    "            year = int(input(\"Enter the year: \"))\n",
    "            month = int(input(\"Enter the month (1-12): \"))\n",
    "            break\n",
    "        except ValueError:\n",
    "            print(\"Invalid input. Please enter numeric values for year and month.\")\n",
    "\n",
    "    print_calendar(year, month)\n",
    "\n",
    "if __name__ == \"__main__\":\n",
    "    main()\n"
   ]
  },
  {
   "cell_type": "markdown",
   "metadata": {},
   "source": [
    "39. Build a program that simulates a basic text-based blackjack game against the computer."
   ]
  },
  {
   "cell_type": "code",
   "execution_count": 7,
   "metadata": {},
   "outputs": [
    {
     "name": "stdout",
     "output_type": "stream",
     "text": [
      "Player's hand:  King of Clubs, 5 of Spades\n",
      "Dealer's hand: King of Hearts, <hidden>\n",
      "Player's hand:  King of Clubs, 5 of Spades, 10 of Clubs\n",
      "Player busts! Dealer wins.\n"
     ]
    }
   ],
   "source": [
    "import random\n",
    "\n",
    "def create_deck():\n",
    "    \"\"\"Creates a deck of cards.\"\"\"\n",
    "    suits = ['Hearts', 'Diamonds', 'Clubs', 'Spades']\n",
    "    ranks = ['2', '3', '4', '5', '6', '7', '8', '9', '10', 'Jack', 'Queen', 'King', 'Ace']\n",
    "    deck = [(rank, suit) for suit in suits for rank in ranks]\n",
    "    random.shuffle(deck)\n",
    "    return deck\n",
    "\n",
    "def card_value(card):\n",
    "    \"\"\"Returns the value of a card.\"\"\"\n",
    "    rank, _ = card\n",
    "    if rank in ['Jack', 'Queen', 'King']:\n",
    "        return 10\n",
    "    elif rank == 'Ace':\n",
    "        return 11\n",
    "    else:\n",
    "        return int(rank)\n",
    "\n",
    "def hand_value(hand):\n",
    "    \"\"\"Calculates the total value of a hand of cards.\"\"\"\n",
    "    value = sum(card_value(card) for card in hand)\n",
    "    num_aces = sum(1 for card in hand if card[0] == 'Ace')\n",
    "    while value > 21 and num_aces:\n",
    "        value -= 10\n",
    "        num_aces -= 1\n",
    "    return value\n",
    "\n",
    "def print_hand(hand, player):\n",
    "    \"\"\"Prints the hand of a player.\"\"\"\n",
    "    print(f\"{player}'s hand: \", ', '.join([f\"{rank} of {suit}\" for rank, suit in hand]))\n",
    "\n",
    "def blackjack():\n",
    "    deck = create_deck()\n",
    "    \n",
    "    # Initial dealing\n",
    "    player_hand = [deck.pop(), deck.pop()]\n",
    "    dealer_hand = [deck.pop(), deck.pop()]\n",
    "    \n",
    "    print_hand(player_hand, 'Player')\n",
    "    print(f\"Dealer's hand: {dealer_hand[0][0]} of {dealer_hand[0][1]}, <hidden>\")\n",
    "\n",
    "    # Player's turn\n",
    "    while True:\n",
    "        action = input(\"Do you want to 'hit' or 'stand'? \").lower()\n",
    "        if action == 'hit':\n",
    "            player_hand.append(deck.pop())\n",
    "            print_hand(player_hand, 'Player')\n",
    "            if hand_value(player_hand) > 21:\n",
    "                print(\"Player busts! Dealer wins.\")\n",
    "                return\n",
    "        elif action == 'stand':\n",
    "            break\n",
    "        else:\n",
    "            print(\"Invalid input. Please enter 'hit' or 'stand'.\")\n",
    "    \n",
    "    # Dealer's turn\n",
    "    print_hand(dealer_hand, 'Dealer')\n",
    "    while hand_value(dealer_hand) < 17:\n",
    "        dealer_hand.append(deck.pop())\n",
    "        print_hand(dealer_hand, 'Dealer')\n",
    "        if hand_value(dealer_hand) > 21:\n",
    "            print(\"Dealer busts! Player wins.\")\n",
    "            return\n",
    "    \n",
    "    # Determine the winner\n",
    "    player_total = hand_value(player_hand)\n",
    "    dealer_total = hand_value(dealer_hand)\n",
    "    print(f\"Player's total: {player_total}\")\n",
    "    print(f\"Dealer's total: {dealer_total}\")\n",
    "    \n",
    "    if player_total > dealer_total:\n",
    "        print(\"Player wins!\")\n",
    "    elif player_total < dealer_total:\n",
    "        print(\"Dealer wins!\")\n",
    "    else:\n",
    "        print(\"It's a tie!\")\n",
    "\n",
    "if __name__ == \"__main__\":\n",
    "    blackjack()\n"
   ]
  },
  {
   "cell_type": "markdown",
   "metadata": {},
   "source": [
    "40. Write a program that generates the prime factors of a given number using trial division."
   ]
  },
  {
   "cell_type": "code",
   "execution_count": 8,
   "metadata": {},
   "outputs": [
    {
     "name": "stdout",
     "output_type": "stream",
     "text": [
      "Prime factors of 52 are: [2, 2, 13]\n"
     ]
    }
   ],
   "source": [
    "def prime_factors(n):\n",
    "    factors = []\n",
    "    \n",
    "    # Check for the number of twos that divide n\n",
    "    while n % 2 == 0:\n",
    "        factors.append(2)\n",
    "        n = n // 2\n",
    "    \n",
    "    # n must be odd at this point so we can skip one element (i.e., we check i, i+2, ...)\n",
    "    for i in range(3, int(n**0.5) + 1, 2):\n",
    "        # While i divides n, append i and divide n\n",
    "        while n % i == 0:\n",
    "            factors.append(i)\n",
    "            n = n // i\n",
    "    \n",
    "    # This condition is to check if n is a prime number greater than 2\n",
    "    if n > 2:\n",
    "        factors.append(n)\n",
    "    \n",
    "    return factors\n",
    "\n",
    "def main():\n",
    "    while True:\n",
    "        try:\n",
    "            n = int(input(\"Enter a number to find its prime factors: \"))\n",
    "            if n <= 1:\n",
    "                print(\"Please enter a positive integer greater than 1.\")\n",
    "                continue\n",
    "            break\n",
    "        except ValueError:\n",
    "            print(\"Invalid input. Please enter a valid integer.\")\n",
    "\n",
    "    factors = prime_factors(n)\n",
    "    print(f\"Prime factors of {n} are: {factors}\")\n",
    "\n",
    "if __name__ == \"__main__\":\n",
    "    main()\n"
   ]
  }
 ],
 "metadata": {
  "kernelspec": {
   "display_name": "Python 3",
   "language": "python",
   "name": "python3"
  },
  "language_info": {
   "codemirror_mode": {
    "name": "ipython",
    "version": 3
   },
   "file_extension": ".py",
   "mimetype": "text/x-python",
   "name": "python",
   "nbconvert_exporter": "python",
   "pygments_lexer": "ipython3",
   "version": "3.11.4"
  }
 },
 "nbformat": 4,
 "nbformat_minor": 2
}
